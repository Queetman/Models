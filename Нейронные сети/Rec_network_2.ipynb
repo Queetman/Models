{
  "cells": [
    {
      "cell_type": "markdown",
      "metadata": {
        "id": "BX7nkAyC752I"
      },
      "source": [
        "Задание 1\n",
        "Сгенерировать последовательности, которые бы состояли из цифр (от 0 до 9)\n",
        "и задавались следующим образом:\n",
        "x - последовательность цифр\n",
        "y1 = x1, y(i) = x(i) + x(1). Если y(i) >= 10, то y(i) = y(i) - 10\n",
        "\n",
        "Задача:\n",
        "научить модель предсказывать y(i) по x(i)\n",
        "пробовать RNN, LSTM, GRU"
      ]
    },
    {
      "cell_type": "markdown",
      "source": [
        "LSTM"
      ],
      "metadata": {
        "id": "3zZBrXVI9ato"
      }
    },
    {
      "cell_type": "code",
      "execution_count": null,
      "metadata": {
        "id": "vF7Ze_p9uv0V"
      },
      "outputs": [],
      "source": [
        "import torch\n",
        "from torch import nn\n",
        "import re\n",
        "import random\n",
        "import tqdm\n",
        "import time\n",
        "import numpy as np"
      ]
    },
    {
      "cell_type": "code",
      "execution_count": null,
      "metadata": {
        "colab": {
          "base_uri": "https://localhost:8080/"
        },
        "id": "IMiw1Tuf70zf",
        "outputId": "23ed6ce0-1743-4a54-cf0c-032739cbd030"
      },
      "outputs": [
        {
          "data": {
            "text/plain": [
              "[2, 1, 3, 8, 8, 1, 4, 4, 3, 8]"
            ]
          },
          "execution_count": 59,
          "metadata": {},
          "output_type": "execute_result"
        }
      ],
      "source": [
        "import random\n",
        "x = [random.randint(0, 10) for _ in range(1000)]\n",
        "x[:10]"
      ]
    },
    {
      "cell_type": "code",
      "execution_count": null,
      "metadata": {
        "id": "91PCz8ymBhe_"
      },
      "outputs": [],
      "source": [
        "def find_y(x):\n",
        "  y = [0] * len(x)\n",
        "  for i in range(len(x)):\n",
        "     y[i] = x[i]+x[1]\n",
        "     if y[i]>=10:\n",
        "      y[i]-=10\n",
        "  return y"
      ]
    },
    {
      "cell_type": "code",
      "execution_count": null,
      "metadata": {
        "colab": {
          "base_uri": "https://localhost:8080/"
        },
        "id": "-9oIHtmQD4g6",
        "outputId": "cb14aea1-20db-46c5-8858-8fb9b391af7f"
      },
      "outputs": [
        {
          "data": {
            "text/plain": [
              "[3, 2, 4, 9, 9, 2, 5, 5, 4, 9]"
            ]
          },
          "execution_count": 61,
          "metadata": {},
          "output_type": "execute_result"
        }
      ],
      "source": [
        "y = find_y(x)\n",
        "y[:10]"
      ]
    },
    {
      "cell_type": "code",
      "execution_count": null,
      "metadata": {
        "colab": {
          "base_uri": "https://localhost:8080/"
        },
        "id": "-1ME_M2QuVIJ",
        "outputId": "47e709a6-2338-46ac-c35c-dfa50ef7ce7a"
      },
      "outputs": [
        {
          "data": {
            "text/plain": [
              "(1000, 1000, 2, 3)"
            ]
          },
          "execution_count": 62,
          "metadata": {},
          "output_type": "execute_result"
        }
      ],
      "source": [
        "len(x), len(y), x[0], y[0]"
      ]
    },
    {
      "cell_type": "code",
      "execution_count": null,
      "metadata": {
        "id": "nu-6LTSeuGgm"
      },
      "outputs": [],
      "source": [
        "# Преобразуем в тензоры\n",
        "X = torch.tensor(x, dtype=torch.float32).view(-1, 1, 1)  # (samples, time_step, features)\n",
        "Y = torch.tensor(y, dtype=torch.float32).view(-1, 1)  # (samples, output)"
      ]
    },
    {
      "cell_type": "code",
      "execution_count": null,
      "metadata": {
        "colab": {
          "base_uri": "https://localhost:8080/"
        },
        "id": "RE_Aux0KyHWI",
        "outputId": "9e6e23bc-5741-4581-aab9-d0be88517eb6"
      },
      "outputs": [
        {
          "data": {
            "text/plain": [
              "(tensor([[2.]]), tensor([3.]))"
            ]
          },
          "execution_count": 64,
          "metadata": {},
          "output_type": "execute_result"
        }
      ],
      "source": [
        "X[0], Y[0]"
      ]
    },
    {
      "cell_type": "code",
      "execution_count": null,
      "metadata": {
        "id": "vOzOJ1tiyaPf"
      },
      "outputs": [],
      "source": [
        "# 2. Определение модели LSTM\n",
        "class LSTMModel(nn.Module):\n",
        "    def __init__(self):\n",
        "        super(LSTMModel, self).__init__()\n",
        "        self.lstm = nn.LSTM(input_size=1, hidden_size=50, num_layers=1, batch_first=True)\n",
        "        self.fc = nn.Linear(50, 1)\n",
        "\n",
        "    def forward(self, x):\n",
        "        out, _ = self.lstm(x)\n",
        "        out = self.fc(out[:, -1, :])  # Берем последний выход LSTM\n",
        "        return out"
      ]
    },
    {
      "cell_type": "code",
      "execution_count": null,
      "metadata": {
        "id": "u3k1Rdwa2zla"
      },
      "outputs": [],
      "source": [
        "# Создаем модель\n",
        "model = LSTMModel()"
      ]
    },
    {
      "cell_type": "code",
      "execution_count": null,
      "metadata": {
        "id": "hwe5q9-6207d"
      },
      "outputs": [],
      "source": [
        "criterion = nn.MSELoss()\n",
        "optimizer = torch.optim.Adam(model.parameters(), lr=0.01)"
      ]
    },
    {
      "cell_type": "code",
      "execution_count": null,
      "metadata": {
        "colab": {
          "base_uri": "https://localhost:8080/"
        },
        "id": "f4FCWZ42230G",
        "outputId": "627f5f67-1555-45b6-c7c5-db8b1cf1e914"
      },
      "outputs": [
        {
          "output_type": "stream",
          "name": "stdout",
          "text": [
            "Epoch [100/1000], Loss: 6.2388\n",
            "Epoch [200/1000], Loss: 3.8152\n",
            "Epoch [300/1000], Loss: 1.8804\n",
            "Epoch [400/1000], Loss: 1.3230\n",
            "Epoch [500/1000], Loss: 1.0659\n",
            "Epoch [600/1000], Loss: 0.8654\n",
            "Epoch [700/1000], Loss: 0.6928\n",
            "Epoch [800/1000], Loss: 0.5400\n",
            "Epoch [900/1000], Loss: 0.3230\n",
            "Epoch [1000/1000], Loss: 0.0797\n"
          ]
        }
      ],
      "source": [
        "num_epochs = 1000\n",
        "for epoch in range(num_epochs):\n",
        "    model.train()\n",
        "    optimizer.zero_grad()\n",
        "    outputs = model(X)\n",
        "    loss = criterion(outputs, Y)\n",
        "    loss.backward()\n",
        "    optimizer.step()\n",
        "\n",
        "    if (epoch+1) % 100 == 0:\n",
        "        print(f'Epoch [{epoch+1}/{num_epochs}], Loss: {loss.item():.4f}')"
      ]
    },
    {
      "cell_type": "code",
      "execution_count": null,
      "metadata": {
        "id": "BkgywLlW275o"
      },
      "outputs": [],
      "source": [
        "# 4. Предсказание значений\n",
        "model.eval()\n",
        "y_pred = []\n",
        "with torch.no_grad():\n",
        "    for i in range(len(y)):\n",
        "      test_input = X[i].view(1, 1, 1)  # Последние 10 значений для предсказания\n",
        "      predicted = model(test_input).item()\n",
        "      y_pred.append(int(predicted))"
      ]
    },
    {
      "cell_type": "code",
      "execution_count": null,
      "metadata": {
        "id": "ykvx7c6J5C_s"
      },
      "outputs": [],
      "source": [
        "def check_accuracy(y, y_pred):\n",
        "  count = 0\n",
        "  for i in range(len(y)):\n",
        "    if y[i]==y_pred[i]:\n",
        "      count+=1\n",
        "  return count/len(y)"
      ]
    },
    {
      "cell_type": "code",
      "execution_count": null,
      "metadata": {
        "colab": {
          "background_save": true,
          "base_uri": "https://localhost:8080/"
        },
        "id": "8N0HLG5X4e_7",
        "outputId": "fab8c5f0-6702-433b-f269-526c475e928c"
      },
      "outputs": [
        {
          "data": {
            "text/plain": [
              "0.545"
            ]
          },
          "execution_count": 28,
          "metadata": {},
          "output_type": "execute_result"
        }
      ],
      "source": [
        "check_accuracy(y, y_pred)"
      ]
    },
    {
      "cell_type": "markdown",
      "source": [
        "RNN"
      ],
      "metadata": {
        "id": "bbc4sWTRBCsZ"
      }
    },
    {
      "cell_type": "code",
      "source": [
        "class RNNModel(nn.Module):\n",
        "    def __init__(self):\n",
        "        super(RNNModel, self).__init__()\n",
        "        self.rnn = nn.RNN(input_size=1, hidden_size=50, num_layers=1, batch_first=True)\n",
        "        self.fc = nn.Linear(50, 1)\n",
        "\n",
        "    def forward(self, x):\n",
        "        out, _ = self.rnn(x)\n",
        "        out = self.fc(out[:, -1, :])  # Берем последний выход RNN\n",
        "        return out\n",
        "\n",
        "# Создаем модель\n",
        "model = RNNModel()"
      ],
      "metadata": {
        "id": "YF8kREHiA8Pq"
      },
      "execution_count": null,
      "outputs": []
    },
    {
      "cell_type": "code",
      "source": [
        "# 3. Обучение модели\n",
        "criterion = nn.MSELoss()\n",
        "optimizer = torch.optim.Adam(model.parameters(), lr=0.01)"
      ],
      "metadata": {
        "id": "T9G4QPT7BLHB"
      },
      "execution_count": null,
      "outputs": []
    },
    {
      "cell_type": "code",
      "source": [
        "num_epochs = 1000\n",
        "for epoch in range(num_epochs):\n",
        "    model.train()\n",
        "    optimizer.zero_grad()\n",
        "    outputs = model(X)\n",
        "    loss = criterion(outputs, Y)\n",
        "    loss.backward()\n",
        "    optimizer.step()\n",
        "\n",
        "    if (epoch+1) % 100 == 0:\n",
        "        print(f'Epoch [{epoch+1}/{num_epochs}], Loss: {loss.item():.4f}')"
      ],
      "metadata": {
        "colab": {
          "base_uri": "https://localhost:8080/"
        },
        "id": "-3aDbtITA-o7",
        "outputId": "ad09243d-eb9b-43ab-f5bd-6cb1ab97ac25"
      },
      "execution_count": null,
      "outputs": [
        {
          "output_type": "stream",
          "name": "stdout",
          "text": [
            "Epoch [100/1000], Loss: 6.3207\n",
            "Epoch [200/1000], Loss: 3.4610\n",
            "Epoch [300/1000], Loss: 1.6775\n",
            "Epoch [400/1000], Loss: 1.2057\n",
            "Epoch [500/1000], Loss: 0.8425\n",
            "Epoch [600/1000], Loss: 0.5340\n",
            "Epoch [700/1000], Loss: 0.3067\n",
            "Epoch [800/1000], Loss: 0.1781\n",
            "Epoch [900/1000], Loss: 0.0992\n",
            "Epoch [1000/1000], Loss: 0.0544\n"
          ]
        }
      ]
    },
    {
      "cell_type": "code",
      "source": [
        "# 4. Предсказание значений\n",
        "model.eval()\n",
        "y_pred = []\n",
        "with torch.no_grad():\n",
        "    for i in range(len(y)):\n",
        "      test_input = X[i].view(1, 1, 1)\n",
        "      predicted = model(test_input).item()\n",
        "      y_pred.append(int(predicted))"
      ],
      "metadata": {
        "id": "OWpNbJMvBPHd"
      },
      "execution_count": null,
      "outputs": []
    },
    {
      "cell_type": "code",
      "source": [
        "check_accuracy(y, y_pred)"
      ],
      "metadata": {
        "colab": {
          "base_uri": "https://localhost:8080/"
        },
        "id": "GyKV__ifBSCM",
        "outputId": "85b4549e-c91c-42a5-a5fd-80a22abd2c14"
      },
      "execution_count": null,
      "outputs": [
        {
          "output_type": "execute_result",
          "data": {
            "text/plain": [
              "0.544"
            ]
          },
          "metadata": {},
          "execution_count": 111
        }
      ]
    },
    {
      "cell_type": "markdown",
      "source": [
        "GRU"
      ],
      "metadata": {
        "id": "83rUQSaJBg1G"
      }
    },
    {
      "cell_type": "code",
      "source": [
        "# 2. Определение модели GRU\n",
        "class GRUModel(nn.Module):\n",
        "    def __init__(self):\n",
        "        super(GRUModel, self).__init__()\n",
        "        self.gru = nn.GRU(input_size=1, hidden_size=50, num_layers=1, batch_first=True)\n",
        "        self.fc = nn.Linear(50, 1)\n",
        "\n",
        "    def forward(self, x):\n",
        "        out, _ = self.gru(x)\n",
        "        out = self.fc(out[:, -1, :])  # Берем последний выход GRU\n",
        "        return out\n",
        "\n",
        "# Создаем модель\n",
        "model = GRUModel()"
      ],
      "metadata": {
        "id": "03jBYQmGBif7"
      },
      "execution_count": null,
      "outputs": []
    },
    {
      "cell_type": "code",
      "source": [
        "# 3. Обучение модели\n",
        "criterion = nn.MSELoss()\n",
        "optimizer = torch.optim.Adam(model.parameters(), lr=0.01)"
      ],
      "metadata": {
        "id": "eJrj_mjVBkbf"
      },
      "execution_count": null,
      "outputs": []
    },
    {
      "cell_type": "code",
      "source": [
        "num_epochs = 1000\n",
        "for epoch in range(num_epochs):\n",
        "    model.train()\n",
        "    optimizer.zero_grad()\n",
        "    outputs = model(X)\n",
        "    loss = criterion(outputs, Y)\n",
        "    loss.backward()\n",
        "    optimizer.step()\n",
        "\n",
        "    if (epoch+1) % 100 == 0:\n",
        "        print(f'Epoch [{epoch+1}/{num_epochs}], Loss: {loss.item():.4f}')"
      ],
      "metadata": {
        "colab": {
          "base_uri": "https://localhost:8080/"
        },
        "id": "vugBays1Bl3o",
        "outputId": "63b2ed0c-50ac-43ca-8dc6-4fca211df970"
      },
      "execution_count": null,
      "outputs": [
        {
          "output_type": "stream",
          "name": "stdout",
          "text": [
            "Epoch [100/1000], Loss: 5.9173\n",
            "Epoch [200/1000], Loss: 2.6628\n",
            "Epoch [300/1000], Loss: 0.9671\n",
            "Epoch [400/1000], Loss: 0.4402\n",
            "Epoch [500/1000], Loss: 0.1694\n",
            "Epoch [600/1000], Loss: 0.0938\n",
            "Epoch [700/1000], Loss: 0.0565\n",
            "Epoch [800/1000], Loss: 0.0030\n",
            "Epoch [900/1000], Loss: 0.0005\n",
            "Epoch [1000/1000], Loss: 0.0002\n"
          ]
        }
      ]
    },
    {
      "cell_type": "code",
      "source": [
        "# 4. Предсказание значений\n",
        "model.eval()\n",
        "y_pred = []\n",
        "with torch.no_grad():\n",
        "    for i in range(len(y)):\n",
        "      test_input = X[i].view(1, 1, 1)\n",
        "      predicted = model(test_input).item()\n",
        "      y_pred.append(int(predicted))"
      ],
      "metadata": {
        "id": "tQqSK6_lBnP1"
      },
      "execution_count": null,
      "outputs": []
    },
    {
      "cell_type": "code",
      "source": [
        "check_accuracy(y, y_pred)"
      ],
      "metadata": {
        "colab": {
          "base_uri": "https://localhost:8080/"
        },
        "id": "-R-qCtzEBoM3",
        "outputId": "f1ea690a-4f40-4e9f-e141-ab3756e736a9"
      },
      "execution_count": null,
      "outputs": [
        {
          "output_type": "execute_result",
          "data": {
            "text/plain": [
              "0.553"
            ]
          },
          "metadata": {},
          "execution_count": 116
        }
      ]
    }
  ],
  "metadata": {
    "colab": {
      "provenance": []
    },
    "kernelspec": {
      "display_name": "Python 3",
      "name": "python3"
    },
    "language_info": {
      "name": "python"
    }
  },
  "nbformat": 4,
  "nbformat_minor": 0
}