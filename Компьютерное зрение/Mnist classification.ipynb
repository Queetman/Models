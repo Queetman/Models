{
  "nbformat": 4,
  "nbformat_minor": 0,
  "metadata": {
    "colab": {
      "provenance": []
    },
    "kernelspec": {
      "name": "python3",
      "display_name": "Python 3"
    },
    "language_info": {
      "name": "python"
    }
  },
  "cells": [
    {
      "cell_type": "markdown",
      "source": [
        "Постройте модель на основе полносвязных слоёв для классификации Fashion MNIST из библиотеки torchvision (datasets).\n",
        "Получите качество на тестовой выборке не ниже 88%"
      ],
      "metadata": {
        "id": "o-cPVUqiPgMM"
      }
    },
    {
      "cell_type": "code",
      "execution_count": null,
      "metadata": {
        "id": "Wb1WKfAsNgk6"
      },
      "outputs": [],
      "source": [
        "import tensorflow as tf\n",
        "from tensorflow.keras.datasets import fashion_mnist\n",
        "import torchvision as tv\n",
        "import pandas as pd\n",
        "import numpy as np\n",
        "import time\n",
        "import torch\n",
        "BATCH_SIZE=256"
      ]
    },
    {
      "cell_type": "code",
      "source": [
        "train_dataset = tv.datasets.MNIST('.', train=True, transform=tv.transforms.ToTensor(), download=True)\n",
        "test_dataset = tv.datasets.MNIST('.', train=False, transform=tv.transforms.ToTensor(), download=True)\n",
        "train = torch.utils.data.DataLoader(train_dataset, batch_size=BATCH_SIZE)\n",
        "test = torch.utils.data.DataLoader(test_dataset, batch_size=BATCH_SIZE)\n",
        "# MNIST - датасет с цифррами"
      ],
      "metadata": {
        "id": "KkK8v4vXNlzA"
      },
      "execution_count": null,
      "outputs": []
    },
    {
      "cell_type": "code",
      "source": [
        "model = torch.nn.Sequential(\n",
        "    torch.nn.Flatten(), # раскатывает матрицу изображений в вектор\n",
        "    torch.nn.Linear(784, 256),# сжатие признакового пространства до 784 (28х28) и 256\n",
        "    torch.nn.ReLU(),\n",
        "    torch.nn.Linear(256, 10)# вывод данных 10 цифр\n",
        ")"
      ],
      "metadata": {
        "id": "whC6TTENPTDa"
      },
      "execution_count": null,
      "outputs": []
    },
    {
      "cell_type": "code",
      "source": [
        "loss = torch.nn.CrossEntropyLoss()\n",
        "trainer = torch.optim.SGD(model.parameters(), lr=.01)\n",
        "num_epochs = 10"
      ],
      "metadata": {
        "id": "yUVYoFW3PWa_"
      },
      "execution_count": null,
      "outputs": []
    },
    {
      "cell_type": "code",
      "source": [
        "def train_model():\n",
        "    for ep in range(num_epochs):\n",
        "        train_iters, train_passed  = 0, 0\n",
        "        train_loss, train_acc = 0., 0.\n",
        "        start=time.time()\n",
        "\n",
        "        model.train()\n",
        "        for X, y in train:\n",
        "            trainer.zero_grad()\n",
        "            y_pred = model(X)\n",
        "            l = loss(y_pred, y)\n",
        "            l.backward()\n",
        "            trainer.step()\n",
        "            train_loss += l.item()\n",
        "            train_acc += (y_pred.argmax(dim=1) == y).sum().item()\n",
        "            train_iters += 1\n",
        "            train_passed += len(X)\n",
        "\n",
        "        test_iters, test_passed  = 0, 0\n",
        "        test_loss, test_acc = 0., 0.\n",
        "        model.eval()\n",
        "        for X, y in test:\n",
        "            y_pred = model(X)\n",
        "            l = loss(y_pred, y)\n",
        "            test_loss += l.item()\n",
        "            test_acc += (y_pred.argmax(dim=1) == y).sum().item()\n",
        "            test_iters += 1\n",
        "            test_passed += len(X)\n",
        "\n",
        "        print(\"ep: {}, taked: {:.3f}, train_loss: {}, train_acc: {}, test_loss: {}, test_acc: {}\".format(\n",
        "            ep, time.time() - start, train_loss / train_iters, train_acc / train_passed,\n",
        "            test_loss / test_iters, test_acc / test_passed)\n",
        "        )"
      ],
      "metadata": {
        "id": "oFEKcuMbPrnz"
      },
      "execution_count": null,
      "outputs": []
    },
    {
      "cell_type": "code",
      "source": [
        "train_model() # модель 1 дает точность 89 и  90.1 процентов на train/test"
      ],
      "metadata": {
        "colab": {
          "base_uri": "https://localhost:8080/"
        },
        "id": "YZJlpKr6PuAN",
        "outputId": "3354081f-abb6-4b9e-b455-006621e0d1ca"
      },
      "execution_count": null,
      "outputs": [
        {
          "output_type": "stream",
          "name": "stdout",
          "text": [
            "ep: 0, taked: 11.893, train_loss: 2.0253831031474663, train_acc: 0.5539666666666667, test_loss: 1.654379090666771, test_acc: 0.7444\n",
            "ep: 1, taked: 11.106, train_loss: 1.3057149356984077, train_acc: 0.7832833333333333, test_loss: 0.9802877575159072, test_acc: 0.8245\n",
            "ep: 2, taked: 10.911, train_loss: 0.8443161285938101, train_acc: 0.8322833333333334, test_loss: 0.694778285175562, test_acc: 0.8537\n",
            "ep: 3, taked: 9.669, train_loss: 0.6506592023879924, train_acc: 0.8534166666666667, test_loss: 0.5664727874100208, test_acc: 0.868\n",
            "ep: 4, taked: 10.771, train_loss: 0.5538855741632746, train_acc: 0.8670333333333333, test_loss: 0.4950707867741585, test_acc: 0.8789\n",
            "ep: 5, taked: 10.818, train_loss: 0.49620229608200966, train_acc: 0.8752, test_loss: 0.4497384000569582, test_acc: 0.8873\n",
            "ep: 6, taked: 10.642, train_loss: 0.4578728569314835, train_acc: 0.8812666666666666, test_loss: 0.41845449786633254, test_acc: 0.8915\n",
            "ep: 7, taked: 10.658, train_loss: 0.4304750665705255, train_acc: 0.8863166666666666, test_loss: 0.39555078875273464, test_acc: 0.8957\n",
            "ep: 8, taked: 9.797, train_loss: 0.40981638165230444, train_acc: 0.8897666666666667, test_loss: 0.37799337729811666, test_acc: 0.8991\n",
            "ep: 9, taked: 10.797, train_loss: 0.39356821556674676, train_acc: 0.8926666666666667, test_loss: 0.3640341032296419, test_acc: 0.9016\n"
          ]
        }
      ]
    },
    {
      "cell_type": "code",
      "source": [
        "model = torch.nn.Sequential(\n",
        "    torch.nn.Flatten(), # раскатывает матрицу изображений в вектор\n",
        "    torch.nn.Dropout(0.5),# добавим дропаут\n",
        "    torch.nn.BatchNorm1d(784),# добавим нормализацию батча\n",
        "    torch.nn.Linear(784, 256),# сжатие признакового пространства до 784 (28х28) и 256\n",
        "    torch.nn.ReLU(),\n",
        "    torch.nn.Linear(256, 10)# вывод данных 10 цифр\n",
        ")"
      ],
      "metadata": {
        "id": "dUf5FHflRdAA"
      },
      "execution_count": null,
      "outputs": []
    },
    {
      "cell_type": "code",
      "source": [
        "train_model() # модель 2 точность 87.3/91.1 процент"
      ],
      "metadata": {
        "colab": {
          "base_uri": "https://localhost:8080/"
        },
        "id": "ycnc9QFmQv_2",
        "outputId": "335184d4-2972-4561-bd62-880a6d0ff9b9"
      },
      "execution_count": null,
      "outputs": [
        {
          "output_type": "stream",
          "name": "stdout",
          "text": [
            "ep: 0, taked: 11.048, train_loss: 1.8971044809260267, train_acc: 0.50685, test_loss: 1.4046357065439223, test_acc: 0.7336\n",
            "ep: 1, taked: 19.127, train_loss: 1.1457858549787643, train_acc: 0.7360666666666666, test_loss: 0.8230444945394992, test_acc: 0.8112\n",
            "ep: 2, taked: 14.493, train_loss: 0.7810086436728214, train_acc: 0.7981166666666667, test_loss: 0.5921168774366379, test_acc: 0.8522\n",
            "ep: 3, taked: 14.633, train_loss: 0.6275088151718707, train_acc: 0.8249666666666666, test_loss: 0.48050525449216364, test_acc: 0.8716\n",
            "ep: 4, taked: 11.938, train_loss: 0.5506495068047909, train_acc: 0.8409333333333333, test_loss: 0.4210757089778781, test_acc: 0.8843\n",
            "ep: 5, taked: 11.658, train_loss: 0.5038058393813194, train_acc: 0.8500833333333333, test_loss: 0.38401117939502, test_acc: 0.8909\n",
            "ep: 6, taked: 11.838, train_loss: 0.4718888111571048, train_acc: 0.8582166666666666, test_loss: 0.3529674746096134, test_acc: 0.8977\n",
            "ep: 7, taked: 10.958, train_loss: 0.4490500287806734, train_acc: 0.8644833333333334, test_loss: 0.33247651448473337, test_acc: 0.9023\n",
            "ep: 8, taked: 11.600, train_loss: 0.4316093895029514, train_acc: 0.8680833333333333, test_loss: 0.3139804217964411, test_acc: 0.9082\n",
            "ep: 9, taked: 11.559, train_loss: 0.4158457700242387, train_acc: 0.8738333333333334, test_loss: 0.3026632426306605, test_acc: 0.9119\n"
          ]
        }
      ]
    },
    {
      "cell_type": "code",
      "source": [
        "model = torch.nn.Sequential(\n",
        "    torch.nn.Flatten(), # раскатывает матрицу изображений в вектор\n",
        "    torch.nn.Dropout(0.5),# добавим дропаут\n",
        "    torch.nn.BatchNorm1d(784),# добавим нормализацию батча\n",
        "    torch.nn.Linear(784, 256),# сжатие признакового пространства до 784 (28х28) и 256\n",
        "    torch.nn.Softmax(), # замена relu на softmx\n",
        "    torch.nn.Linear(256, 10)# вывод данных 10 цифр\n",
        ")"
      ],
      "metadata": {
        "id": "aQeVxMyOTnSj"
      },
      "execution_count": null,
      "outputs": []
    },
    {
      "cell_type": "code",
      "source": [
        "train_model() # модель 3 точность 89.2/90 проц"
      ],
      "metadata": {
        "colab": {
          "base_uri": "https://localhost:8080/"
        },
        "id": "nctN2RLlUM24",
        "outputId": "c9cc7416-ea36-4947-df79-90bad82d5b95"
      },
      "execution_count": null,
      "outputs": [
        {
          "output_type": "stream",
          "name": "stdout",
          "text": [
            "ep: 0, taked: 13.920, train_loss: 2.0349105170432558, train_acc: 0.5759333333333333, test_loss: 1.673035353422165, test_acc: 0.7347\n",
            "ep: 1, taked: 15.472, train_loss: 1.3251843546299225, train_acc: 0.76515, test_loss: 0.9976324617862702, test_acc: 0.8107\n",
            "ep: 2, taked: 11.138, train_loss: 0.8596060371145289, train_acc: 0.8216666666666667, test_loss: 0.7084035448729992, test_acc: 0.8441\n",
            "ep: 3, taked: 10.205, train_loss: 0.662047900164381, train_acc: 0.8486333333333334, test_loss: 0.5766544010490179, test_acc: 0.8631\n",
            "ep: 4, taked: 10.888, train_loss: 0.5622212184236405, train_acc: 0.8635166666666667, test_loss: 0.5026052892208099, test_acc: 0.8762\n",
            "ep: 5, taked: 11.087, train_loss: 0.5022528835433595, train_acc: 0.8732, test_loss: 0.4552877314388752, test_acc: 0.8846\n",
            "ep: 6, taked: 11.330, train_loss: 0.46223851822792217, train_acc: 0.88035, test_loss: 0.4225693173706532, test_acc: 0.8904\n",
            "ep: 7, taked: 11.011, train_loss: 0.43362961937772465, train_acc: 0.8859833333333333, test_loss: 0.3986221237108111, test_acc: 0.8942\n",
            "ep: 8, taked: 10.550, train_loss: 0.41209599007951453, train_acc: 0.8898, test_loss: 0.3803107634186745, test_acc: 0.8967\n",
            "ep: 9, taked: 10.399, train_loss: 0.3952152153595965, train_acc: 0.89285, test_loss: 0.36580293271690606, test_acc: 0.8997\n"
          ]
        }
      ]
    },
    {
      "cell_type": "code",
      "source": [
        "# при удалениии дропаута точность понизилась.\n",
        "model = torch.nn.Sequential(\n",
        "    torch.nn.Flatten(), # раскатывает матрицу изображений в вектор\n",
        "    torch.nn.BatchNorm1d(784),# добавим нормализацию батча\n",
        "    torch.nn.Linear(784, 256),# сжатие признакового пространства до 784 (28х28) и 256\n",
        "    torch.nn.Softmax(), # замена relu на softmx\n",
        "    torch.nn.Linear(256, 10)# вывод данных 10 цифр\n",
        ")"
      ],
      "metadata": {
        "id": "GHo4VGFkU0_q"
      },
      "execution_count": null,
      "outputs": []
    },
    {
      "cell_type": "code",
      "source": [
        "train_model()  # модель 4 точность 11.2/11.3 проц"
      ],
      "metadata": {
        "colab": {
          "base_uri": "https://localhost:8080/"
        },
        "id": "hOm3uor6VCC4",
        "outputId": "e5d3e7f3-04ac-41b7-8caf-7d0a9774738f"
      },
      "execution_count": null,
      "outputs": [
        {
          "output_type": "stream",
          "name": "stderr",
          "text": [
            "/usr/local/lib/python3.10/dist-packages/torch/nn/modules/module.py:1736: UserWarning: Implicit dimension choice for softmax has been deprecated. Change the call to include dim=X as an argument.\n",
            "  return self._call_impl(*args, **kwargs)\n"
          ]
        },
        {
          "output_type": "stream",
          "name": "stdout",
          "text": [
            "ep: 0, taked: 15.704, train_loss: 2.3027092304635555, train_acc: 0.10441666666666667, test_loss: 2.302483731508255, test_acc: 0.1026\n",
            "ep: 1, taked: 14.015, train_loss: 2.301951782754127, train_acc: 0.10441666666666667, test_loss: 2.301796293258667, test_acc: 0.1024\n",
            "ep: 2, taked: 12.636, train_loss: 2.3014232483315977, train_acc: 0.11648333333333333, test_loss: 2.3012999176979063, test_acc: 0.1149\n",
            "ep: 3, taked: 12.437, train_loss: 2.3010375530161755, train_acc: 0.11248333333333334, test_loss: 2.3009244561195374, test_acc: 0.1135\n",
            "ep: 4, taked: 12.060, train_loss: 2.300740470277502, train_acc: 0.11236666666666667, test_loss: 2.300625389814377, test_acc: 0.1135\n",
            "ep: 5, taked: 11.557, train_loss: 2.3004981000372706, train_acc: 0.11236666666666667, test_loss: 2.300374609231949, test_acc: 0.1135\n",
            "ep: 6, taked: 11.709, train_loss: 2.300289206809186, train_acc: 0.11236666666666667, test_loss: 2.300154048204422, test_acc: 0.1135\n",
            "ep: 7, taked: 12.438, train_loss: 2.300100409730952, train_acc: 0.11236666666666667, test_loss: 2.2999522626399993, test_acc: 0.1135\n",
            "ep: 8, taked: 11.514, train_loss: 2.299923394588714, train_acc: 0.11236666666666667, test_loss: 2.299761766195297, test_acc: 0.1135\n",
            "ep: 9, taked: 13.730, train_loss: 2.2997527741371315, train_acc: 0.11236666666666667, test_loss: 2.299577736854553, test_acc: 0.1135\n"
          ]
        }
      ]
    },
    {
      "cell_type": "code",
      "source": [
        "# добавлены слои\n",
        "model = torch.nn.Sequential(\n",
        "    torch.nn.Flatten(), # раскатывает матрицу изображений в вектор\n",
        "    torch.nn.Dropout(0.5),# добавим дропаут\n",
        "    torch.nn.BatchNorm1d(784),# добавим нормализацию батча\n",
        "    torch.nn.Linear(784, 256),# сжатие признакового пространства до 784 (28х28) и 256\n",
        "    torch.nn.ReLU(), # замена relu на softmx\n",
        "    torch.nn.BatchNorm1d(256),\n",
        "    torch.nn.Linear(256, 128),# вывод данных 10 цифр\n",
        "    torch.nn.ReLU(),\n",
        "    torch.nn.BatchNorm1d(128),\n",
        "    torch.nn.Linear(128, 10),# вывод данных 10 цифр\n",
        ")"
      ],
      "metadata": {
        "id": "4aAjN7oRW6jW"
      },
      "execution_count": null,
      "outputs": []
    },
    {
      "cell_type": "code",
      "source": [
        "train_model()  # модель 5 точность повысилась 92.1/94.4 проц"
      ],
      "metadata": {
        "colab": {
          "base_uri": "https://localhost:8080/"
        },
        "id": "Nmspva-0YB1h",
        "outputId": "2ec2b5d5-854b-4fcb-d8c4-e0232083e93f"
      },
      "execution_count": null,
      "outputs": [
        {
          "output_type": "stream",
          "name": "stdout",
          "text": [
            "ep: 0, taked: 12.296, train_loss: 1.0041816981548959, train_acc: 0.7097, test_loss: 0.4593313843011856, test_acc: 0.8785\n",
            "ep: 1, taked: 12.204, train_loss: 0.5174947512276629, train_acc: 0.84715, test_loss: 0.33731209198012946, test_acc: 0.9043\n",
            "ep: 2, taked: 12.935, train_loss: 0.4214608317994057, train_acc: 0.8723666666666666, test_loss: 0.2933747939765453, test_acc: 0.9148\n",
            "ep: 3, taked: 11.963, train_loss: 0.3760790907005046, train_acc: 0.8867166666666667, test_loss: 0.26838168636895715, test_acc: 0.9235\n",
            "ep: 4, taked: 11.334, train_loss: 0.3430407684534154, train_acc: 0.8962166666666667, test_loss: 0.24145418885163963, test_acc: 0.9293\n",
            "ep: 5, taked: 11.595, train_loss: 0.317985426523584, train_acc: 0.90165, test_loss: 0.2266955969389528, test_acc: 0.9345\n",
            "ep: 6, taked: 12.041, train_loss: 0.29892393353771657, train_acc: 0.9080666666666667, test_loss: 0.2241901318076998, test_acc: 0.936\n",
            "ep: 7, taked: 12.156, train_loss: 0.28081356055559, train_acc: 0.9137833333333333, test_loss: 0.20759255101438612, test_acc: 0.9406\n",
            "ep: 8, taked: 12.031, train_loss: 0.2704079789367128, train_acc: 0.9179666666666667, test_loss: 0.20621685720980168, test_acc: 0.943\n",
            "ep: 9, taked: 12.040, train_loss: 0.2537844203571056, train_acc: 0.9219666666666667, test_loss: 0.20344462278299033, test_acc: 0.9444\n"
          ]
        }
      ]
    },
    {
      "cell_type": "code",
      "source": [
        "# добавим дропаутов\n",
        "model = torch.nn.Sequential(\n",
        "    torch.nn.Flatten(), # раскатывает матрицу изображений в вектор\n",
        "    torch.nn.Dropout(0.5),# добавим дропаут\n",
        "    torch.nn.BatchNorm1d(784),# добавим нормализацию батча\n",
        "    torch.nn.Linear(784, 256),# сжатие признакового пространства до 784 (28х28) и 256\n",
        "    torch.nn.ReLU(), # замена relu на softmx\n",
        "    torch.nn.Dropout(0.5),# добавим дропаут\n",
        "    torch.nn.BatchNorm1d(256),\n",
        "    torch.nn.Linear(256, 128),# вывод данных 10 цифр\n",
        "    torch.nn.ReLU(),\n",
        "    torch.nn.Dropout(0.5),# добавим дропаут\n",
        "    torch.nn.BatchNorm1d(128),\n",
        "    torch.nn.Linear(128, 10),# вывод данных 10 цифр\n",
        ")"
      ],
      "metadata": {
        "id": "lroBksYxX0Pn"
      },
      "execution_count": null,
      "outputs": []
    },
    {
      "cell_type": "code",
      "source": [
        "train_model()  # модель 6 точность повысилась 82.3/91.2 проц"
      ],
      "metadata": {
        "colab": {
          "base_uri": "https://localhost:8080/"
        },
        "id": "oWNGR8ZCaP_q",
        "outputId": "25497a4b-cab6-4b02-89f6-54e5a92d524f"
      },
      "execution_count": null,
      "outputs": [
        {
          "output_type": "stream",
          "name": "stdout",
          "text": [
            "ep: 0, taked: 12.356, train_loss: 1.8246559046684427, train_acc: 0.39136666666666664, test_loss: 1.1195401206612587, test_acc: 0.7275\n",
            "ep: 1, taked: 12.139, train_loss: 1.1598297205377133, train_acc: 0.6440333333333333, test_loss: 0.7056574545800686, test_acc: 0.8359\n",
            "ep: 2, taked: 14.862, train_loss: 0.9028115330858434, train_acc: 0.72415, test_loss: 0.5308976504951716, test_acc: 0.8657\n",
            "ep: 3, taked: 12.236, train_loss: 0.7774389548504607, train_acc: 0.7591833333333333, test_loss: 0.4459781017154455, test_acc: 0.8824\n",
            "ep: 4, taked: 12.611, train_loss: 0.7065590803927564, train_acc: 0.7832166666666667, test_loss: 0.39801648650318383, test_acc: 0.8919\n",
            "ep: 5, taked: 12.012, train_loss: 0.6637770845534954, train_acc: 0.79405, test_loss: 0.36239484772086145, test_acc: 0.8994\n",
            "ep: 6, taked: 11.515, train_loss: 0.6272525678289698, train_acc: 0.8040666666666667, test_loss: 0.34275324195623397, test_acc: 0.9039\n",
            "ep: 7, taked: 12.025, train_loss: 0.6028927576034627, train_acc: 0.8139, test_loss: 0.324269309733063, test_acc: 0.9078\n",
            "ep: 8, taked: 13.001, train_loss: 0.5817131197198908, train_acc: 0.8193833333333334, test_loss: 0.3125846221111715, test_acc: 0.9093\n",
            "ep: 9, taked: 12.099, train_loss: 0.5668548170556413, train_acc: 0.8228166666666666, test_loss: 0.30029006376862527, test_acc: 0.9137\n"
          ]
        }
      ]
    },
    {
      "cell_type": "markdown",
      "source": [
        "Лучная модель - модельномер пять с точностью 92.1 на обучающем и 94.4 на тестовом датасете."
      ],
      "metadata": {
        "id": "fiNnt2Hta82v"
      }
    }
  ]
}