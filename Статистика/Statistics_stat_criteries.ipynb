{
  "nbformat": 4,
  "nbformat_minor": 0,
  "metadata": {
    "colab": {
      "provenance": []
    },
    "kernelspec": {
      "name": "python3",
      "display_name": "Python 3"
    },
    "language_info": {
      "name": "python"
    }
  },
  "cells": [
    {
      "cell_type": "markdown",
      "source": [
        "Ддатасет FPS_hw_x_df_x_taxi.xlsx.\n",
        "Попробуем исследовать данные, построить графики плотности распределения дистанций поездок для классов Economy и Comfort.\n",
        "\n",
        "Проверить гипотезу: «На дальние поездки пользователи предпочитают Economy-классу более комфортные условия поездки в Comfort-классе.\n",
        "\n",
        "Сделайте выводы по результатам проверки.\n",
        "\n",
        "\n",
        " Критерии оценки задания:\n",
        "\n",
        "Вычислены описательные статистики.\n",
        "\n",
        "Построено распределение задействованных в гипотезе данных.\n",
        "\n",
        "Проведена проверка гипотезы соответствующим статистическим критерием.\n",
        "\n",
        "Сделаны выводы по результатам проверки."
      ],
      "metadata": {
        "id": "h8_6i7E6FTie"
      }
    },
    {
      "cell_type": "code",
      "execution_count": null,
      "metadata": {
        "id": "mBfGH8zgFOmo"
      },
      "outputs": [],
      "source": [
        "import pandas as pd\n",
        "import matplotlib.pyplot as plt\n",
        "import numpy as np\n",
        "import statistics as st\n",
        "import seaborn as sns\n",
        "# Подключение библиотек статистических критериев\n",
        "from scipy.stats import ttest_ind\n",
        "from scipy.stats import mannwhitneyu"
      ]
    },
    {
      "cell_type": "code",
      "source": [
        "df=pd.read_excel('FPS_hw_x_df_x_taxi.xlsx')"
      ],
      "metadata": {
        "id": "ysPS1SrfGaMO"
      },
      "execution_count": null,
      "outputs": []
    },
    {
      "cell_type": "code",
      "source": [
        "df.head(10)"
      ],
      "metadata": {
        "colab": {
          "base_uri": "https://localhost:8080/",
          "height": 363
        },
        "id": "Nt3lGVJQGpPU",
        "outputId": "d8911df3-3f59-4358-faeb-de0d352f2ad6"
      },
      "execution_count": null,
      "outputs": [
        {
          "output_type": "execute_result",
          "data": {
            "text/plain": [
              "   order_gk  weekday_key   hour_key  distance_km offer_class_group  \\\n",
              "0       412            7  22.967881    53.113626           Premium   \n",
              "1       436            3  19.439948     5.781342          Delivery   \n",
              "2      1327            6  19.816643    16.200071          Delivery   \n",
              "3      2013            2  19.123837    13.731643          Delivery   \n",
              "4      2241            6  23.164958    20.436380           Premium   \n",
              "5      2601            4  18.355521    46.301291           Premium   \n",
              "6      2710            4  23.825352     2.142234           Comfort   \n",
              "7      2911            7  19.491440    42.587786           Premium   \n",
              "8      2948            6  18.996947    67.540478           Premium   \n",
              "9      3013            2  15.692942    33.417278          Delivery   \n",
              "\n",
              "   driver_response  \n",
              "0                1  \n",
              "1                1  \n",
              "2                0  \n",
              "3                0  \n",
              "4                1  \n",
              "5                0  \n",
              "6                1  \n",
              "7                1  \n",
              "8                1  \n",
              "9                1  "
            ],
            "text/html": [
              "\n",
              "  <div id=\"df-113417d0-af42-4ac1-be50-09c0846e5eec\">\n",
              "    <div class=\"colab-df-container\">\n",
              "      <div>\n",
              "<style scoped>\n",
              "    .dataframe tbody tr th:only-of-type {\n",
              "        vertical-align: middle;\n",
              "    }\n",
              "\n",
              "    .dataframe tbody tr th {\n",
              "        vertical-align: top;\n",
              "    }\n",
              "\n",
              "    .dataframe thead th {\n",
              "        text-align: right;\n",
              "    }\n",
              "</style>\n",
              "<table border=\"1\" class=\"dataframe\">\n",
              "  <thead>\n",
              "    <tr style=\"text-align: right;\">\n",
              "      <th></th>\n",
              "      <th>order_gk</th>\n",
              "      <th>weekday_key</th>\n",
              "      <th>hour_key</th>\n",
              "      <th>distance_km</th>\n",
              "      <th>offer_class_group</th>\n",
              "      <th>driver_response</th>\n",
              "    </tr>\n",
              "  </thead>\n",
              "  <tbody>\n",
              "    <tr>\n",
              "      <th>0</th>\n",
              "      <td>412</td>\n",
              "      <td>7</td>\n",
              "      <td>22.967881</td>\n",
              "      <td>53.113626</td>\n",
              "      <td>Premium</td>\n",
              "      <td>1</td>\n",
              "    </tr>\n",
              "    <tr>\n",
              "      <th>1</th>\n",
              "      <td>436</td>\n",
              "      <td>3</td>\n",
              "      <td>19.439948</td>\n",
              "      <td>5.781342</td>\n",
              "      <td>Delivery</td>\n",
              "      <td>1</td>\n",
              "    </tr>\n",
              "    <tr>\n",
              "      <th>2</th>\n",
              "      <td>1327</td>\n",
              "      <td>6</td>\n",
              "      <td>19.816643</td>\n",
              "      <td>16.200071</td>\n",
              "      <td>Delivery</td>\n",
              "      <td>0</td>\n",
              "    </tr>\n",
              "    <tr>\n",
              "      <th>3</th>\n",
              "      <td>2013</td>\n",
              "      <td>2</td>\n",
              "      <td>19.123837</td>\n",
              "      <td>13.731643</td>\n",
              "      <td>Delivery</td>\n",
              "      <td>0</td>\n",
              "    </tr>\n",
              "    <tr>\n",
              "      <th>4</th>\n",
              "      <td>2241</td>\n",
              "      <td>6</td>\n",
              "      <td>23.164958</td>\n",
              "      <td>20.436380</td>\n",
              "      <td>Premium</td>\n",
              "      <td>1</td>\n",
              "    </tr>\n",
              "    <tr>\n",
              "      <th>5</th>\n",
              "      <td>2601</td>\n",
              "      <td>4</td>\n",
              "      <td>18.355521</td>\n",
              "      <td>46.301291</td>\n",
              "      <td>Premium</td>\n",
              "      <td>0</td>\n",
              "    </tr>\n",
              "    <tr>\n",
              "      <th>6</th>\n",
              "      <td>2710</td>\n",
              "      <td>4</td>\n",
              "      <td>23.825352</td>\n",
              "      <td>2.142234</td>\n",
              "      <td>Comfort</td>\n",
              "      <td>1</td>\n",
              "    </tr>\n",
              "    <tr>\n",
              "      <th>7</th>\n",
              "      <td>2911</td>\n",
              "      <td>7</td>\n",
              "      <td>19.491440</td>\n",
              "      <td>42.587786</td>\n",
              "      <td>Premium</td>\n",
              "      <td>1</td>\n",
              "    </tr>\n",
              "    <tr>\n",
              "      <th>8</th>\n",
              "      <td>2948</td>\n",
              "      <td>6</td>\n",
              "      <td>18.996947</td>\n",
              "      <td>67.540478</td>\n",
              "      <td>Premium</td>\n",
              "      <td>1</td>\n",
              "    </tr>\n",
              "    <tr>\n",
              "      <th>9</th>\n",
              "      <td>3013</td>\n",
              "      <td>2</td>\n",
              "      <td>15.692942</td>\n",
              "      <td>33.417278</td>\n",
              "      <td>Delivery</td>\n",
              "      <td>1</td>\n",
              "    </tr>\n",
              "  </tbody>\n",
              "</table>\n",
              "</div>\n",
              "      <button class=\"colab-df-convert\" onclick=\"convertToInteractive('df-113417d0-af42-4ac1-be50-09c0846e5eec')\"\n",
              "              title=\"Convert this dataframe to an interactive table.\"\n",
              "              style=\"display:none;\">\n",
              "        \n",
              "  <svg xmlns=\"http://www.w3.org/2000/svg\" height=\"24px\"viewBox=\"0 0 24 24\"\n",
              "       width=\"24px\">\n",
              "    <path d=\"M0 0h24v24H0V0z\" fill=\"none\"/>\n",
              "    <path d=\"M18.56 5.44l.94 2.06.94-2.06 2.06-.94-2.06-.94-.94-2.06-.94 2.06-2.06.94zm-11 1L8.5 8.5l.94-2.06 2.06-.94-2.06-.94L8.5 2.5l-.94 2.06-2.06.94zm10 10l.94 2.06.94-2.06 2.06-.94-2.06-.94-.94-2.06-.94 2.06-2.06.94z\"/><path d=\"M17.41 7.96l-1.37-1.37c-.4-.4-.92-.59-1.43-.59-.52 0-1.04.2-1.43.59L10.3 9.45l-7.72 7.72c-.78.78-.78 2.05 0 2.83L4 21.41c.39.39.9.59 1.41.59.51 0 1.02-.2 1.41-.59l7.78-7.78 2.81-2.81c.8-.78.8-2.07 0-2.86zM5.41 20L4 18.59l7.72-7.72 1.47 1.35L5.41 20z\"/>\n",
              "  </svg>\n",
              "      </button>\n",
              "      \n",
              "  <style>\n",
              "    .colab-df-container {\n",
              "      display:flex;\n",
              "      flex-wrap:wrap;\n",
              "      gap: 12px;\n",
              "    }\n",
              "\n",
              "    .colab-df-convert {\n",
              "      background-color: #E8F0FE;\n",
              "      border: none;\n",
              "      border-radius: 50%;\n",
              "      cursor: pointer;\n",
              "      display: none;\n",
              "      fill: #1967D2;\n",
              "      height: 32px;\n",
              "      padding: 0 0 0 0;\n",
              "      width: 32px;\n",
              "    }\n",
              "\n",
              "    .colab-df-convert:hover {\n",
              "      background-color: #E2EBFA;\n",
              "      box-shadow: 0px 1px 2px rgba(60, 64, 67, 0.3), 0px 1px 3px 1px rgba(60, 64, 67, 0.15);\n",
              "      fill: #174EA6;\n",
              "    }\n",
              "\n",
              "    [theme=dark] .colab-df-convert {\n",
              "      background-color: #3B4455;\n",
              "      fill: #D2E3FC;\n",
              "    }\n",
              "\n",
              "    [theme=dark] .colab-df-convert:hover {\n",
              "      background-color: #434B5C;\n",
              "      box-shadow: 0px 1px 3px 1px rgba(0, 0, 0, 0.15);\n",
              "      filter: drop-shadow(0px 1px 2px rgba(0, 0, 0, 0.3));\n",
              "      fill: #FFFFFF;\n",
              "    }\n",
              "  </style>\n",
              "\n",
              "      <script>\n",
              "        const buttonEl =\n",
              "          document.querySelector('#df-113417d0-af42-4ac1-be50-09c0846e5eec button.colab-df-convert');\n",
              "        buttonEl.style.display =\n",
              "          google.colab.kernel.accessAllowed ? 'block' : 'none';\n",
              "\n",
              "        async function convertToInteractive(key) {\n",
              "          const element = document.querySelector('#df-113417d0-af42-4ac1-be50-09c0846e5eec');\n",
              "          const dataTable =\n",
              "            await google.colab.kernel.invokeFunction('convertToInteractive',\n",
              "                                                     [key], {});\n",
              "          if (!dataTable) return;\n",
              "\n",
              "          const docLinkHtml = 'Like what you see? Visit the ' +\n",
              "            '<a target=\"_blank\" href=https://colab.research.google.com/notebooks/data_table.ipynb>data table notebook</a>'\n",
              "            + ' to learn more about interactive tables.';\n",
              "          element.innerHTML = '';\n",
              "          dataTable['output_type'] = 'display_data';\n",
              "          await google.colab.output.renderOutput(dataTable, element);\n",
              "          const docLink = document.createElement('div');\n",
              "          docLink.innerHTML = docLinkHtml;\n",
              "          element.appendChild(docLink);\n",
              "        }\n",
              "      </script>\n",
              "    </div>\n",
              "  </div>\n",
              "  "
            ]
          },
          "metadata": {},
          "execution_count": 18
        }
      ]
    },
    {
      "cell_type": "code",
      "source": [
        "df_economy = df[df['offer_class_group']== 'Economy']\n",
        "df_comfort = df[df['offer_class_group']== 'Comfort']"
      ],
      "metadata": {
        "id": "MI2xlQDEHAM9"
      },
      "execution_count": null,
      "outputs": []
    },
    {
      "cell_type": "code",
      "source": [
        "# Проверка длины массивов\n",
        "print ('Длины массивов равны:', len(df_economy)==len(df_comfort))"
      ],
      "metadata": {
        "colab": {
          "base_uri": "https://localhost:8080/"
        },
        "id": "evY2wQvhHcmF",
        "outputId": "09781205-f3d9-4fd2-ebe8-656054f094d0"
      },
      "execution_count": null,
      "outputs": [
        {
          "output_type": "stream",
          "name": "stdout",
          "text": [
            "Длины массивов равны: True\n"
          ]
        }
      ]
    },
    {
      "cell_type": "markdown",
      "source": [
        "Исследование данных.  Можно построить графики плотности распределения дистанций поездок для классов Economy и Comfort."
      ],
      "metadata": {
        "id": "S-KafNj-MH3G"
      }
    },
    {
      "cell_type": "code",
      "source": [
        "sns.distplot(df_economy['distance_km'],50)\n",
        "sns.distplot(df_comfort['distance_km'],50)\n",
        "plt.title('Распределение дальноти поездок от класса')\n",
        "plt.legend(['Эконом', 'Комфорт'])\n",
        "plt.show"
      ],
      "metadata": {
        "colab": {
          "base_uri": "https://localhost:8080/",
          "height": 695
        },
        "id": "tCEynZaDHyRO",
        "outputId": "6433ca63-b751-46e7-8463-99589ea53fb9"
      },
      "execution_count": null,
      "outputs": [
        {
          "output_type": "stream",
          "name": "stderr",
          "text": [
            "<ipython-input-21-8ce6d7deb098>:1: UserWarning: \n",
            "\n",
            "`distplot` is a deprecated function and will be removed in seaborn v0.14.0.\n",
            "\n",
            "Please adapt your code to use either `displot` (a figure-level function with\n",
            "similar flexibility) or `histplot` (an axes-level function for histograms).\n",
            "\n",
            "For a guide to updating your code to use the new functions, please see\n",
            "https://gist.github.com/mwaskom/de44147ed2974457ad6372750bbe5751\n",
            "\n",
            "  sns.distplot(df_economy['distance_km'],50)\n",
            "<ipython-input-21-8ce6d7deb098>:2: UserWarning: \n",
            "\n",
            "`distplot` is a deprecated function and will be removed in seaborn v0.14.0.\n",
            "\n",
            "Please adapt your code to use either `displot` (a figure-level function with\n",
            "similar flexibility) or `histplot` (an axes-level function for histograms).\n",
            "\n",
            "For a guide to updating your code to use the new functions, please see\n",
            "https://gist.github.com/mwaskom/de44147ed2974457ad6372750bbe5751\n",
            "\n",
            "  sns.distplot(df_comfort['distance_km'],50)\n"
          ]
        },
        {
          "output_type": "execute_result",
          "data": {
            "text/plain": [
              "<function matplotlib.pyplot.show(close=None, block=None)>"
            ]
          },
          "metadata": {},
          "execution_count": 21
        },
        {
          "output_type": "display_data",
          "data": {
            "text/plain": [
              "<Figure size 432x288 with 1 Axes>"
            ],
            "image/png": "[encoded data removed]"
          },
          "metadata": {
            "needs_background": "light"
          }
        }
      ]
    },
    {
      "cell_type": "code",
      "source": [
        "df_economy.describe()"
      ],
      "metadata": {
        "colab": {
          "base_uri": "https://localhost:8080/",
          "height": 300
        },
        "id": "PtbROF8gMwO1",
        "outputId": "1d02a23d-2b97-4028-c30f-3556ca15707e"
      },
      "execution_count": null,
      "outputs": [
        {
          "output_type": "execute_result",
          "data": {
            "text/plain": [
              "           order_gk  weekday_key    hour_key  distance_km  driver_response\n",
              "count     500.00000   500.000000  500.000000   500.000000       500.000000\n",
              "mean   463448.91200     3.896000   22.165311    26.283117         0.422000\n",
              "std    274029.66119     1.989246    4.063839    17.016153         0.494373\n",
              "min      3845.00000     1.000000   14.899553     0.089947         0.000000\n",
              "25%    226962.50000     2.000000   19.006174    13.372229         0.000000\n",
              "50%    455884.50000     4.000000   21.257715    23.798183         0.000000\n",
              "75%    721415.75000     6.000000   24.402652    36.845287         1.000000\n",
              "max    919196.00000     7.000000   39.185553    90.516618         1.000000"
            ],
            "text/html": [
              "\n",
              "  <div id=\"df-166c0686-50ea-4771-94b1-c7b219ae6681\">\n",
              "    <div class=\"colab-df-container\">\n",
              "      <div>\n",
              "<style scoped>\n",
              "    .dataframe tbody tr th:only-of-type {\n",
              "        vertical-align: middle;\n",
              "    }\n",
              "\n",
              "    .dataframe tbody tr th {\n",
              "        vertical-align: top;\n",
              "    }\n",
              "\n",
              "    .dataframe thead th {\n",
              "        text-align: right;\n",
              "    }\n",
              "</style>\n",
              "<table border=\"1\" class=\"dataframe\">\n",
              "  <thead>\n",
              "    <tr style=\"text-align: right;\">\n",
              "      <th></th>\n",
              "      <th>order_gk</th>\n",
              "      <th>weekday_key</th>\n",
              "      <th>hour_key</th>\n",
              "      <th>distance_km</th>\n",
              "      <th>driver_response</th>\n",
              "    </tr>\n",
              "  </thead>\n",
              "  <tbody>\n",
              "    <tr>\n",
              "      <th>count</th>\n",
              "      <td>500.00000</td>\n",
              "      <td>500.000000</td>\n",
              "      <td>500.000000</td>\n",
              "      <td>500.000000</td>\n",
              "      <td>500.000000</td>\n",
              "    </tr>\n",
              "    <tr>\n",
              "      <th>mean</th>\n",
              "      <td>463448.91200</td>\n",
              "      <td>3.896000</td>\n",
              "      <td>22.165311</td>\n",
              "      <td>26.283117</td>\n",
              "      <td>0.422000</td>\n",
              "    </tr>\n",
              "    <tr>\n",
              "      <th>std</th>\n",
              "      <td>274029.66119</td>\n",
              "      <td>1.989246</td>\n",
              "      <td>4.063839</td>\n",
              "      <td>17.016153</td>\n",
              "      <td>0.494373</td>\n",
              "    </tr>\n",
              "    <tr>\n",
              "      <th>min</th>\n",
              "      <td>3845.00000</td>\n",
              "      <td>1.000000</td>\n",
              "      <td>14.899553</td>\n",
              "      <td>0.089947</td>\n",
              "      <td>0.000000</td>\n",
              "    </tr>\n",
              "    <tr>\n",
              "      <th>25%</th>\n",
              "      <td>226962.50000</td>\n",
              "      <td>2.000000</td>\n",
              "      <td>19.006174</td>\n",
              "      <td>13.372229</td>\n",
              "      <td>0.000000</td>\n",
              "    </tr>\n",
              "    <tr>\n",
              "      <th>50%</th>\n",
              "      <td>455884.50000</td>\n",
              "      <td>4.000000</td>\n",
              "      <td>21.257715</td>\n",
              "      <td>23.798183</td>\n",
              "      <td>0.000000</td>\n",
              "    </tr>\n",
              "    <tr>\n",
              "      <th>75%</th>\n",
              "      <td>721415.75000</td>\n",
              "      <td>6.000000</td>\n",
              "      <td>24.402652</td>\n",
              "      <td>36.845287</td>\n",
              "      <td>1.000000</td>\n",
              "    </tr>\n",
              "    <tr>\n",
              "      <th>max</th>\n",
              "      <td>919196.00000</td>\n",
              "      <td>7.000000</td>\n",
              "      <td>39.185553</td>\n",
              "      <td>90.516618</td>\n",
              "      <td>1.000000</td>\n",
              "    </tr>\n",
              "  </tbody>\n",
              "</table>\n",
              "</div>\n",
              "      <button class=\"colab-df-convert\" onclick=\"convertToInteractive('df-166c0686-50ea-4771-94b1-c7b219ae6681')\"\n",
              "              title=\"Convert this dataframe to an interactive table.\"\n",
              "              style=\"display:none;\">\n",
              "        \n",
              "  <svg xmlns=\"http://www.w3.org/2000/svg\" height=\"24px\"viewBox=\"0 0 24 24\"\n",
              "       width=\"24px\">\n",
              "    <path d=\"M0 0h24v24H0V0z\" fill=\"none\"/>\n",
              "    <path d=\"M18.56 5.44l.94 2.06.94-2.06 2.06-.94-2.06-.94-.94-2.06-.94 2.06-2.06.94zm-11 1L8.5 8.5l.94-2.06 2.06-.94-2.06-.94L8.5 2.5l-.94 2.06-2.06.94zm10 10l.94 2.06.94-2.06 2.06-.94-2.06-.94-.94-2.06-.94 2.06-2.06.94z\"/><path d=\"M17.41 7.96l-1.37-1.37c-.4-.4-.92-.59-1.43-.59-.52 0-1.04.2-1.43.59L10.3 9.45l-7.72 7.72c-.78.78-.78 2.05 0 2.83L4 21.41c.39.39.9.59 1.41.59.51 0 1.02-.2 1.41-.59l7.78-7.78 2.81-2.81c.8-.78.8-2.07 0-2.86zM5.41 20L4 18.59l7.72-7.72 1.47 1.35L5.41 20z\"/>\n",
              "  </svg>\n",
              "      </button>\n",
              "      \n",
              "  <style>\n",
              "    .colab-df-container {\n",
              "      display:flex;\n",
              "      flex-wrap:wrap;\n",
              "      gap: 12px;\n",
              "    }\n",
              "\n",
              "    .colab-df-convert {\n",
              "      background-color: #E8F0FE;\n",
              "      border: none;\n",
              "      border-radius: 50%;\n",
              "      cursor: pointer;\n",
              "      display: none;\n",
              "      fill: #1967D2;\n",
              "      height: 32px;\n",
              "      padding: 0 0 0 0;\n",
              "      width: 32px;\n",
              "    }\n",
              "\n",
              "    .colab-df-convert:hover {\n",
              "      background-color: #E2EBFA;\n",
              "      box-shadow: 0px 1px 2px rgba(60, 64, 67, 0.3), 0px 1px 3px 1px rgba(60, 64, 67, 0.15);\n",
              "      fill: #174EA6;\n",
              "    }\n",
              "\n",
              "    [theme=dark] .colab-df-convert {\n",
              "      background-color: #3B4455;\n",
              "      fill: #D2E3FC;\n",
              "    }\n",
              "\n",
              "    [theme=dark] .colab-df-convert:hover {\n",
              "      background-color: #434B5C;\n",
              "      box-shadow: 0px 1px 3px 1px rgba(0, 0, 0, 0.15);\n",
              "      filter: drop-shadow(0px 1px 2px rgba(0, 0, 0, 0.3));\n",
              "      fill: #FFFFFF;\n",
              "    }\n",
              "  </style>\n",
              "\n",
              "      <script>\n",
              "        const buttonEl =\n",
              "          document.querySelector('#df-166c0686-50ea-4771-94b1-c7b219ae6681 button.colab-df-convert');\n",
              "        buttonEl.style.display =\n",
              "          google.colab.kernel.accessAllowed ? 'block' : 'none';\n",
              "\n",
              "        async function convertToInteractive(key) {\n",
              "          const element = document.querySelector('#df-166c0686-50ea-4771-94b1-c7b219ae6681');\n",
              "          const dataTable =\n",
              "            await google.colab.kernel.invokeFunction('convertToInteractive',\n",
              "                                                     [key], {});\n",
              "          if (!dataTable) return;\n",
              "\n",
              "          const docLinkHtml = 'Like what you see? Visit the ' +\n",
              "            '<a target=\"_blank\" href=https://colab.research.google.com/notebooks/data_table.ipynb>data table notebook</a>'\n",
              "            + ' to learn more about interactive tables.';\n",
              "          element.innerHTML = '';\n",
              "          dataTable['output_type'] = 'display_data';\n",
              "          await google.colab.output.renderOutput(dataTable, element);\n",
              "          const docLink = document.createElement('div');\n",
              "          docLink.innerHTML = docLinkHtml;\n",
              "          element.appendChild(docLink);\n",
              "        }\n",
              "      </script>\n",
              "    </div>\n",
              "  </div>\n",
              "  "
            ]
          },
          "metadata": {},
          "execution_count": 22
        }
      ]
    },
    {
      "cell_type": "code",
      "source": [
        "df_comfort.describe()"
      ],
      "metadata": {
        "colab": {
          "base_uri": "https://localhost:8080/",
          "height": 300
        },
        "id": "kw9Xz1PHM4um",
        "outputId": "fa952b6b-97f8-48e2-947e-b23fb9b38340"
      },
      "execution_count": null,
      "outputs": [
        {
          "output_type": "execute_result",
          "data": {
            "text/plain": [
              "            order_gk  weekday_key    hour_key  distance_km  driver_response\n",
              "count     500.000000   500.000000  500.000000   500.000000       500.000000\n",
              "mean   465289.002000     4.106000   22.943699    29.758910         0.486000\n",
              "std    272443.226582     1.968378    4.842951    17.644643         0.500305\n",
              "min      2710.000000     1.000000   15.496198     0.024259         0.000000\n",
              "25%    232141.250000     2.000000   19.430402    16.345205         0.000000\n",
              "50%    475479.000000     4.000000   21.704980    28.078273         0.000000\n",
              "75%    697329.750000     6.000000   25.120825    41.300650         1.000000\n",
              "max    918656.000000     7.000000   50.206056    81.507022         1.000000"
            ],
            "text/html": [
              "\n",
              "  <div id=\"df-d4809562-1b9c-42c5-9552-fad4bf5bfc46\">\n",
              "    <div class=\"colab-df-container\">\n",
              "      <div>\n",
              "<style scoped>\n",
              "    .dataframe tbody tr th:only-of-type {\n",
              "        vertical-align: middle;\n",
              "    }\n",
              "\n",
              "    .dataframe tbody tr th {\n",
              "        vertical-align: top;\n",
              "    }\n",
              "\n",
              "    .dataframe thead th {\n",
              "        text-align: right;\n",
              "    }\n",
              "</style>\n",
              "<table border=\"1\" class=\"dataframe\">\n",
              "  <thead>\n",
              "    <tr style=\"text-align: right;\">\n",
              "      <th></th>\n",
              "      <th>order_gk</th>\n",
              "      <th>weekday_key</th>\n",
              "      <th>hour_key</th>\n",
              "      <th>distance_km</th>\n",
              "      <th>driver_response</th>\n",
              "    </tr>\n",
              "  </thead>\n",
              "  <tbody>\n",
              "    <tr>\n",
              "      <th>count</th>\n",
              "      <td>500.000000</td>\n",
              "      <td>500.000000</td>\n",
              "      <td>500.000000</td>\n",
              "      <td>500.000000</td>\n",
              "      <td>500.000000</td>\n",
              "    </tr>\n",
              "    <tr>\n",
              "      <th>mean</th>\n",
              "      <td>465289.002000</td>\n",
              "      <td>4.106000</td>\n",
              "      <td>22.943699</td>\n",
              "      <td>29.758910</td>\n",
              "      <td>0.486000</td>\n",
              "    </tr>\n",
              "    <tr>\n",
              "      <th>std</th>\n",
              "      <td>272443.226582</td>\n",
              "      <td>1.968378</td>\n",
              "      <td>4.842951</td>\n",
              "      <td>17.644643</td>\n",
              "      <td>0.500305</td>\n",
              "    </tr>\n",
              "    <tr>\n",
              "      <th>min</th>\n",
              "      <td>2710.000000</td>\n",
              "      <td>1.000000</td>\n",
              "      <td>15.496198</td>\n",
              "      <td>0.024259</td>\n",
              "      <td>0.000000</td>\n",
              "    </tr>\n",
              "    <tr>\n",
              "      <th>25%</th>\n",
              "      <td>232141.250000</td>\n",
              "      <td>2.000000</td>\n",
              "      <td>19.430402</td>\n",
              "      <td>16.345205</td>\n",
              "      <td>0.000000</td>\n",
              "    </tr>\n",
              "    <tr>\n",
              "      <th>50%</th>\n",
              "      <td>475479.000000</td>\n",
              "      <td>4.000000</td>\n",
              "      <td>21.704980</td>\n",
              "      <td>28.078273</td>\n",
              "      <td>0.000000</td>\n",
              "    </tr>\n",
              "    <tr>\n",
              "      <th>75%</th>\n",
              "      <td>697329.750000</td>\n",
              "      <td>6.000000</td>\n",
              "      <td>25.120825</td>\n",
              "      <td>41.300650</td>\n",
              "      <td>1.000000</td>\n",
              "    </tr>\n",
              "    <tr>\n",
              "      <th>max</th>\n",
              "      <td>918656.000000</td>\n",
              "      <td>7.000000</td>\n",
              "      <td>50.206056</td>\n",
              "      <td>81.507022</td>\n",
              "      <td>1.000000</td>\n",
              "    </tr>\n",
              "  </tbody>\n",
              "</table>\n",
              "</div>\n",
              "      <button class=\"colab-df-convert\" onclick=\"convertToInteractive('df-d4809562-1b9c-42c5-9552-fad4bf5bfc46')\"\n",
              "              title=\"Convert this dataframe to an interactive table.\"\n",
              "              style=\"display:none;\">\n",
              "        \n",
              "  <svg xmlns=\"http://www.w3.org/2000/svg\" height=\"24px\"viewBox=\"0 0 24 24\"\n",
              "       width=\"24px\">\n",
              "    <path d=\"M0 0h24v24H0V0z\" fill=\"none\"/>\n",
              "    <path d=\"M18.56 5.44l.94 2.06.94-2.06 2.06-.94-2.06-.94-.94-2.06-.94 2.06-2.06.94zm-11 1L8.5 8.5l.94-2.06 2.06-.94-2.06-.94L8.5 2.5l-.94 2.06-2.06.94zm10 10l.94 2.06.94-2.06 2.06-.94-2.06-.94-.94-2.06-.94 2.06-2.06.94z\"/><path d=\"M17.41 7.96l-1.37-1.37c-.4-.4-.92-.59-1.43-.59-.52 0-1.04.2-1.43.59L10.3 9.45l-7.72 7.72c-.78.78-.78 2.05 0 2.83L4 21.41c.39.39.9.59 1.41.59.51 0 1.02-.2 1.41-.59l7.78-7.78 2.81-2.81c.8-.78.8-2.07 0-2.86zM5.41 20L4 18.59l7.72-7.72 1.47 1.35L5.41 20z\"/>\n",
              "  </svg>\n",
              "      </button>\n",
              "      \n",
              "  <style>\n",
              "    .colab-df-container {\n",
              "      display:flex;\n",
              "      flex-wrap:wrap;\n",
              "      gap: 12px;\n",
              "    }\n",
              "\n",
              "    .colab-df-convert {\n",
              "      background-color: #E8F0FE;\n",
              "      border: none;\n",
              "      border-radius: 50%;\n",
              "      cursor: pointer;\n",
              "      display: none;\n",
              "      fill: #1967D2;\n",
              "      height: 32px;\n",
              "      padding: 0 0 0 0;\n",
              "      width: 32px;\n",
              "    }\n",
              "\n",
              "    .colab-df-convert:hover {\n",
              "      background-color: #E2EBFA;\n",
              "      box-shadow: 0px 1px 2px rgba(60, 64, 67, 0.3), 0px 1px 3px 1px rgba(60, 64, 67, 0.15);\n",
              "      fill: #174EA6;\n",
              "    }\n",
              "\n",
              "    [theme=dark] .colab-df-convert {\n",
              "      background-color: #3B4455;\n",
              "      fill: #D2E3FC;\n",
              "    }\n",
              "\n",
              "    [theme=dark] .colab-df-convert:hover {\n",
              "      background-color: #434B5C;\n",
              "      box-shadow: 0px 1px 3px 1px rgba(0, 0, 0, 0.15);\n",
              "      filter: drop-shadow(0px 1px 2px rgba(0, 0, 0, 0.3));\n",
              "      fill: #FFFFFF;\n",
              "    }\n",
              "  </style>\n",
              "\n",
              "      <script>\n",
              "        const buttonEl =\n",
              "          document.querySelector('#df-d4809562-1b9c-42c5-9552-fad4bf5bfc46 button.colab-df-convert');\n",
              "        buttonEl.style.display =\n",
              "          google.colab.kernel.accessAllowed ? 'block' : 'none';\n",
              "\n",
              "        async function convertToInteractive(key) {\n",
              "          const element = document.querySelector('#df-d4809562-1b9c-42c5-9552-fad4bf5bfc46');\n",
              "          const dataTable =\n",
              "            await google.colab.kernel.invokeFunction('convertToInteractive',\n",
              "                                                     [key], {});\n",
              "          if (!dataTable) return;\n",
              "\n",
              "          const docLinkHtml = 'Like what you see? Visit the ' +\n",
              "            '<a target=\"_blank\" href=https://colab.research.google.com/notebooks/data_table.ipynb>data table notebook</a>'\n",
              "            + ' to learn more about interactive tables.';\n",
              "          element.innerHTML = '';\n",
              "          dataTable['output_type'] = 'display_data';\n",
              "          await google.colab.output.renderOutput(dataTable, element);\n",
              "          const docLink = document.createElement('div');\n",
              "          docLink.innerHTML = docLinkHtml;\n",
              "          element.appendChild(docLink);\n",
              "        }\n",
              "      </script>\n",
              "    </div>\n",
              "  </div>\n",
              "  "
            ]
          },
          "metadata": {},
          "execution_count": 23
        }
      ]
    },
    {
      "cell_type": "code",
      "source": [
        "#  Параметры похожи."
      ],
      "metadata": {
        "id": "aEL6dZQnNKVu"
      },
      "execution_count": null,
      "outputs": []
    },
    {
      "cell_type": "markdown",
      "source": [
        "Проверка гипотезы: «На дальние поездки пользователи предпочитают Economy-классу более комфортные условия поездки в Comfort-классе.\n",
        "\n",
        "H0 -Стоимость поездок не отличается.\n",
        "\n",
        " H1 - Стоимость поездок отличается значительно"
      ],
      "metadata": {
        "id": "njXXZw-vMM0G"
      }
    },
    {
      "cell_type": "code",
      "source": [
        "alpha = 5 # Установка уровня значимости"
      ],
      "metadata": {
        "id": "RuyHLgzWJacG"
      },
      "execution_count": null,
      "outputs": []
    },
    {
      "cell_type": "code",
      "source": [
        "# Тест Фишера - \"отношение дисперсий дистанций\"\n",
        "import scipy.stats as stats\n",
        "\n",
        "# Определение дисперсии\n",
        "disp_comf= df_comfort['distance_km'].var()\n",
        "disp_econ= df_economy['distance_km'].var()\n",
        "[disp_comf,disp_econ]"
      ],
      "metadata": {
        "id": "2TkWPdV7PvHA",
        "colab": {
          "base_uri": "https://localhost:8080/"
        },
        "outputId": "bff1af3e-fe43-4f14-c8d9-42b1af41d88f"
      },
      "execution_count": null,
      "outputs": [
        {
          "output_type": "execute_result",
          "data": {
            "text/plain": [
              "[311.3334293306457, 289.54945225637704]"
            ]
          },
          "metadata": {},
          "execution_count": 26
        }
      ]
    },
    {
      "cell_type": "code",
      "source": [
        "# Определение\n",
        "fish= disp_comf/disp_econ\n",
        "fish"
      ],
      "metadata": {
        "colab": {
          "base_uri": "https://localhost:8080/"
        },
        "id": "oagSBpgLeFWN",
        "outputId": "92c48772-343d-4cd5-a2df-c1a893af47e3"
      },
      "execution_count": null,
      "outputs": [
        {
          "output_type": "execute_result",
          "data": {
            "text/plain": [
              "1.0752340469115458"
            ]
          },
          "metadata": {},
          "execution_count": 27
        }
      ]
    },
    {
      "cell_type": "code",
      "source": [
        "#Дисперсии отличаются на 7 процентов. Сходимость достаточно высокая."
      ],
      "metadata": {
        "id": "xk3MrPYphGvu"
      },
      "execution_count": null,
      "outputs": []
    },
    {
      "cell_type": "code",
      "source": [
        "# Проведение Т-теста (t-критерий тьюдента) Проверка того,что уровень стоимость поездок не отичается/ альфа= 5%\n",
        "result =ttest_ind(df_comfort['distance_km'],df_economy['distance_km'])\n",
        "print ('p-value: %8f' % result.pvalue)\n",
        "\n",
        "if ( result.pvalue<alpha):\n",
        "  print('Отвергаем нулевую гипотезу')\n",
        "else:\n",
        "  print('Принимаем нулевую гипотезы')"
      ],
      "metadata": {
        "colab": {
          "base_uri": "https://localhost:8080/"
        },
        "id": "coz29YjMMXrP",
        "outputId": "475bdedb-6318-410d-ca88-3617ba5612eb"
      },
      "execution_count": null,
      "outputs": [
        {
          "output_type": "stream",
          "name": "stdout",
          "text": [
            "p-value: 0.001568\n",
            "Отвергаем нулевую гипотезу\n"
          ]
        }
      ]
    },
    {
      "cell_type": "code",
      "source": [
        "# стоимость поездок отличается значительно"
      ],
      "metadata": {
        "id": "HKW9fSmwON0e"
      },
      "execution_count": null,
      "outputs": []
    },
    {
      "cell_type": "code",
      "source": [
        "# Проведение теста Манна- Уитни (U-критерий Манна- Уитни)\n",
        "\n",
        "result =mannwhitneyu(df_comfort['distance_km'],df_economy['distance_km'])\n",
        "\n",
        "print ('p-value: %8f' % result.pvalue)\n",
        "\n",
        "if ( result.pvalue<alpha):\n",
        "  print('Отвергаем нулевую гипотезу')\n",
        "else:\n",
        "  print('Принимаем нулевую гипотезы')\n"
      ],
      "metadata": {
        "colab": {
          "base_uri": "https://localhost:8080/"
        },
        "id": "iQ79bCBiOcw3",
        "outputId": "e5d2e1f2-0ac1-4a88-d526-6100f8a0d0a4"
      },
      "execution_count": null,
      "outputs": [
        {
          "output_type": "stream",
          "name": "stdout",
          "text": [
            "p-value: 0.001285\n",
            "Отвергаем нулевую гипотезу\n"
          ]
        }
      ]
    },
    {
      "cell_type": "markdown",
      "source": [
        "Вывод:\n",
        "\n",
        "Распределения похожи. Критерий фишера составлет 7%, что достаточно не много.\n",
        "\n",
        "Стоимость поездки в завимости от расстояния зависит от класса автомобиля с точностью 95%.\n",
        "\n",
        "Критерии Стьюдента и Манна-Уитни подтвержают это."
      ],
      "metadata": {
        "id": "7fsdB5TahrKp"
      }
    }
  ]
}