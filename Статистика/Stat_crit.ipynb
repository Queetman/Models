{
  "cells": [
    {
      "cell_type": "code",
      "execution_count": null,
      "metadata": {
        "id": "5jiAGbLvYRp1"
      },
      "outputs": [],
      "source": [
        "Расчитываются критерии Фишера, Стьюдента и Манна-Уитни.\n",
        "Критерий Стьюдента нужен когда распределение нормальное.\n",
        "Критерий Манна-Уитни может использоваться и для нормального и для не нормального распределения.\n",
        "Критерий фишера используется для определения равенства дисперсий.\n",
        "Критерий Фишера является несколько более жестким, чем критерий Стьюдента,\n",
        "а потому более предпочтителен в тех случаях,\n",
        "когда возникают сомнения в достоверности различий\n",
        "(например, если по критерию Стьюдента различия достоверны при нулевом и недостоверны при первом уровне значимости)."
      ]
    },
    {
      "cell_type": "markdown",
      "metadata": {
        "id": "h8_6i7E6FTie"
      },
      "source": [
        "Используйте датасет FPS_hw_x_df_x_taxi.xlsx.\n",
        "Исследуйте данные и постройте графики плотности распределения дистанций поездок для классов Economy и Comfort.\n",
        "\n",
        "Проверьте гипотезу: «На дальние поездки пользователи предпочитают Economy-классу более комфортные условия поездки в Comfort-классе.\n",
        "\n",
        "Сделайте выводы по результатам проверки.\n",
        "\n",
        " Для определения предпочтений понадобится изучение описательных статистик и графиков по классам.\n",
        "\n",
        " Критерии оценки задания:\n",
        "\n",
        "Вычислены описательные статистики.\n",
        "\n",
        "Построено распределение задействованных в гипотезе данных.\n",
        "\n",
        "Проведена проверка гипотезы соответствующим статистическим критерием.\n",
        "\n",
        "Сделаны выводы по результатам проверки."
      ]
    },
    {
      "cell_type": "code",
      "execution_count": null,
      "metadata": {
        "id": "mBfGH8zgFOmo"
      },
      "outputs": [],
      "source": [
        "import pandas as pd\n",
        "import matplotlib.pyplot as plt\n",
        "import numpy as np\n",
        "import statistics as st\n",
        "import seaborn as sns\n",
        "# Подключение библиотек статистических критериев\n",
        "from scipy.stats import ttest_ind\n",
        "from scipy.stats import mannwhitneyu"
      ]
    },
    {
      "cell_type": "code",
      "execution_count": null,
      "metadata": {
        "id": "ysPS1SrfGaMO"
      },
      "outputs": [],
      "source": [
        "df=pd.read_excel('FPS_hw_x_df_x_taxi.xlsx')"
      ]
    },
    {
      "cell_type": "code",
      "execution_count": null,
      "metadata": {
        "colab": {
          "base_uri": "https://localhost:8080/",
          "height": 363
        },
        "id": "Nt3lGVJQGpPU",
        "outputId": "d8911df3-3f59-4358-faeb-de0d352f2ad6"
      },
      "outputs": [
        {
          "data": {
            "text/html": [
              "<div>\n",
              "<style scoped>\n",
              "    .dataframe tbody tr th:only-of-type {\n",
              "        vertical-align: middle;\n",
              "    }\n",
              "\n",
              "    .dataframe tbody tr th {\n",
              "        vertical-align: top;\n",
              "    }\n",
              "\n",
              "    .dataframe thead th {\n",
              "        text-align: right;\n",
              "    }\n",
              "</style>\n",
              "<table border=\"1\" class=\"dataframe\">\n",
              "  <thead>\n",
              "    <tr style=\"text-align: right;\">\n",
              "      <th></th>\n",
              "      <th>order_gk</th>\n",
              "      <th>weekday_key</th>\n",
              "      <th>hour_key</th>\n",
              "      <th>distance_km</th>\n",
              "      <th>offer_class_group</th>\n",
              "      <th>driver_response</th>\n",
              "    </tr>\n",
              "  </thead>\n",
              "  <tbody>\n",
              "    <tr>\n",
              "      <th>0</th>\n",
              "      <td>412</td>\n",
              "      <td>7</td>\n",
              "      <td>22.967881</td>\n",
              "      <td>53.113626</td>\n",
              "      <td>Premium</td>\n",
              "      <td>1</td>\n",
              "    </tr>\n",
              "    <tr>\n",
              "      <th>1</th>\n",
              "      <td>436</td>\n",
              "      <td>3</td>\n",
              "      <td>19.439948</td>\n",
              "      <td>5.781342</td>\n",
              "      <td>Delivery</td>\n",
              "      <td>1</td>\n",
              "    </tr>\n",
              "    <tr>\n",
              "      <th>2</th>\n",
              "      <td>1327</td>\n",
              "      <td>6</td>\n",
              "      <td>19.816643</td>\n",
              "      <td>16.200071</td>\n",
              "      <td>Delivery</td>\n",
              "      <td>0</td>\n",
              "    </tr>\n",
              "    <tr>\n",
              "      <th>3</th>\n",
              "      <td>2013</td>\n",
              "      <td>2</td>\n",
              "      <td>19.123837</td>\n",
              "      <td>13.731643</td>\n",
              "      <td>Delivery</td>\n",
              "      <td>0</td>\n",
              "    </tr>\n",
              "    <tr>\n",
              "      <th>4</th>\n",
              "      <td>2241</td>\n",
              "      <td>6</td>\n",
              "      <td>23.164958</td>\n",
              "      <td>20.436380</td>\n",
              "      <td>Premium</td>\n",
              "      <td>1</td>\n",
              "    </tr>\n",
              "  </tbody>\n",
              "</table>\n",
              "</div>"
            ],
            "text/plain": [
              "   order_gk  weekday_key   hour_key  distance_km offer_class_group  \\\n",
              "0       412            7  22.967881    53.113626           Premium   \n",
              "1       436            3  19.439948     5.781342          Delivery   \n",
              "2      1327            6  19.816643    16.200071          Delivery   \n",
              "3      2013            2  19.123837    13.731643          Delivery   \n",
              "4      2241            6  23.164958    20.436380           Premium   \n",
              "\n",
              "   driver_response  \n",
              "0                1  \n",
              "1                1  \n",
              "2                0  \n",
              "3                0  \n",
              "4                1  "
            ]
          },
          "execution_count": 4,
          "metadata": {},
          "output_type": "execute_result"
        }
      ],
      "source": [
        "df.head(5)"
      ]
    },
    {
      "cell_type": "code",
      "execution_count": null,
      "metadata": {
        "id": "MI2xlQDEHAM9"
      },
      "outputs": [],
      "source": [
        "df_economy = df[df['offer_class_group']== 'Economy']\n",
        "df_comfort = df[df['offer_class_group']== 'Comfort']"
      ]
    },
    {
      "cell_type": "code",
      "execution_count": null,
      "metadata": {
        "colab": {
          "base_uri": "https://localhost:8080/"
        },
        "id": "evY2wQvhHcmF",
        "outputId": "09781205-f3d9-4fd2-ebe8-656054f094d0"
      },
      "outputs": [
        {
          "name": "stdout",
          "output_type": "stream",
          "text": [
            "Длины массивов равны: True\n"
          ]
        }
      ],
      "source": [
        "# Проверка длины массивов\n",
        "print ('Длины массивов равны:', len(df_economy)==len(df_comfort))"
      ]
    },
    {
      "cell_type": "markdown",
      "metadata": {
        "id": "S-KafNj-MH3G"
      },
      "source": [
        "Исследуйте данные и постройте графики плотности распределения дистанций поездок для классов Economy и Comfort."
      ]
    },
    {
      "cell_type": "code",
      "execution_count": null,
      "metadata": {
        "colab": {
          "base_uri": "https://localhost:8080/",
          "height": 695
        },
        "id": "tCEynZaDHyRO",
        "outputId": "6433ca63-b751-46e7-8463-99589ea53fb9"
      },
      "outputs": [
        {
          "name": "stderr",
          "output_type": "stream",
          "text": [
            "C:\\Users\\koloskov\\AppData\\Local\\Temp\\ipykernel_18908\\1776826382.py:1: UserWarning: \n",
            "\n",
            "`distplot` is a deprecated function and will be removed in seaborn v0.14.0.\n",
            "\n",
            "Please adapt your code to use either `displot` (a figure-level function with\n",
            "similar flexibility) or `histplot` (an axes-level function for histograms).\n",
            "\n",
            "For a guide to updating your code to use the new functions, please see\n",
            "https://gist.github.com/mwaskom/de44147ed2974457ad6372750bbe5751\n",
            "\n",
            "  sns.distplot(df_economy['distance_km'],50)\n",
            "C:\\Users\\koloskov\\AppData\\Local\\Temp\\ipykernel_18908\\1776826382.py:2: UserWarning: \n",
            "\n",
            "`distplot` is a deprecated function and will be removed in seaborn v0.14.0.\n",
            "\n",
            "Please adapt your code to use either `displot` (a figure-level function with\n",
            "similar flexibility) or `histplot` (an axes-level function for histograms).\n",
            "\n",
            "For a guide to updating your code to use the new functions, please see\n",
            "https://gist.github.com/mwaskom/de44147ed2974457ad6372750bbe5751\n",
            "\n",
            "  sns.distplot(df_comfort['distance_km'],50)\n"
          ]
        },
        {
          "data": {
            "text/plain": [
              "<function matplotlib.pyplot.show(close=None, block=None)>"
            ]
          },
          "execution_count": 7,
          "metadata": {},
          "output_type": "execute_result"
        },
        {
          "data": {
            "image/png": "[encoded data removed]",
            "text/plain": [
              "<Figure size 640x480 with 1 Axes>"
            ]
          },
          "metadata": {},
          "output_type": "display_data"
        }
      ],
      "source": [
        "sns.distplot(df_economy['distance_km'],50)\n",
        "sns.distplot(df_comfort['distance_km'],50)\n",
        "plt.title('Распределение дальноти поездок от класса')\n",
        "plt.legend(['Эконом', 'Комфорт'])\n",
        "plt.show"
      ]
    },
    {
      "cell_type": "code",
      "execution_count": null,
      "metadata": {
        "colab": {
          "base_uri": "https://localhost:8080/",
          "height": 300
        },
        "id": "PtbROF8gMwO1",
        "outputId": "1d02a23d-2b97-4028-c30f-3556ca15707e"
      },
      "outputs": [
        {
          "data": {
            "text/html": [
              "<div>\n",
              "<style scoped>\n",
              "    .dataframe tbody tr th:only-of-type {\n",
              "        vertical-align: middle;\n",
              "    }\n",
              "\n",
              "    .dataframe tbody tr th {\n",
              "        vertical-align: top;\n",
              "    }\n",
              "\n",
              "    .dataframe thead th {\n",
              "        text-align: right;\n",
              "    }\n",
              "</style>\n",
              "<table border=\"1\" class=\"dataframe\">\n",
              "  <thead>\n",
              "    <tr style=\"text-align: right;\">\n",
              "      <th></th>\n",
              "      <th>order_gk</th>\n",
              "      <th>weekday_key</th>\n",
              "      <th>hour_key</th>\n",
              "      <th>distance_km</th>\n",
              "      <th>driver_response</th>\n",
              "    </tr>\n",
              "  </thead>\n",
              "  <tbody>\n",
              "    <tr>\n",
              "      <th>count</th>\n",
              "      <td>500.00000</td>\n",
              "      <td>500.000000</td>\n",
              "      <td>500.000000</td>\n",
              "      <td>500.000000</td>\n",
              "      <td>500.000000</td>\n",
              "    </tr>\n",
              "    <tr>\n",
              "      <th>mean</th>\n",
              "      <td>463448.91200</td>\n",
              "      <td>3.896000</td>\n",
              "      <td>22.165311</td>\n",
              "      <td>26.283117</td>\n",
              "      <td>0.422000</td>\n",
              "    </tr>\n",
              "    <tr>\n",
              "      <th>std</th>\n",
              "      <td>274029.66119</td>\n",
              "      <td>1.989246</td>\n",
              "      <td>4.063839</td>\n",
              "      <td>17.016153</td>\n",
              "      <td>0.494373</td>\n",
              "    </tr>\n",
              "    <tr>\n",
              "      <th>min</th>\n",
              "      <td>3845.00000</td>\n",
              "      <td>1.000000</td>\n",
              "      <td>14.899553</td>\n",
              "      <td>0.089947</td>\n",
              "      <td>0.000000</td>\n",
              "    </tr>\n",
              "    <tr>\n",
              "      <th>25%</th>\n",
              "      <td>226962.50000</td>\n",
              "      <td>2.000000</td>\n",
              "      <td>19.006174</td>\n",
              "      <td>13.372229</td>\n",
              "      <td>0.000000</td>\n",
              "    </tr>\n",
              "    <tr>\n",
              "      <th>50%</th>\n",
              "      <td>455884.50000</td>\n",
              "      <td>4.000000</td>\n",
              "      <td>21.257715</td>\n",
              "      <td>23.798183</td>\n",
              "      <td>0.000000</td>\n",
              "    </tr>\n",
              "    <tr>\n",
              "      <th>75%</th>\n",
              "      <td>721415.75000</td>\n",
              "      <td>6.000000</td>\n",
              "      <td>24.402652</td>\n",
              "      <td>36.845287</td>\n",
              "      <td>1.000000</td>\n",
              "    </tr>\n",
              "    <tr>\n",
              "      <th>max</th>\n",
              "      <td>919196.00000</td>\n",
              "      <td>7.000000</td>\n",
              "      <td>39.185553</td>\n",
              "      <td>90.516618</td>\n",
              "      <td>1.000000</td>\n",
              "    </tr>\n",
              "  </tbody>\n",
              "</table>\n",
              "</div>"
            ],
            "text/plain": [
              "           order_gk  weekday_key    hour_key  distance_km  driver_response\n",
              "count     500.00000   500.000000  500.000000   500.000000       500.000000\n",
              "mean   463448.91200     3.896000   22.165311    26.283117         0.422000\n",
              "std    274029.66119     1.989246    4.063839    17.016153         0.494373\n",
              "min      3845.00000     1.000000   14.899553     0.089947         0.000000\n",
              "25%    226962.50000     2.000000   19.006174    13.372229         0.000000\n",
              "50%    455884.50000     4.000000   21.257715    23.798183         0.000000\n",
              "75%    721415.75000     6.000000   24.402652    36.845287         1.000000\n",
              "max    919196.00000     7.000000   39.185553    90.516618         1.000000"
            ]
          },
          "execution_count": 8,
          "metadata": {},
          "output_type": "execute_result"
        }
      ],
      "source": [
        "df_economy.describe()"
      ]
    },
    {
      "cell_type": "code",
      "execution_count": null,
      "metadata": {
        "colab": {
          "base_uri": "https://localhost:8080/",
          "height": 300
        },
        "id": "kw9Xz1PHM4um",
        "outputId": "fa952b6b-97f8-48e2-947e-b23fb9b38340"
      },
      "outputs": [
        {
          "data": {
            "text/html": [
              "<div>\n",
              "<style scoped>\n",
              "    .dataframe tbody tr th:only-of-type {\n",
              "        vertical-align: middle;\n",
              "    }\n",
              "\n",
              "    .dataframe tbody tr th {\n",
              "        vertical-align: top;\n",
              "    }\n",
              "\n",
              "    .dataframe thead th {\n",
              "        text-align: right;\n",
              "    }\n",
              "</style>\n",
              "<table border=\"1\" class=\"dataframe\">\n",
              "  <thead>\n",
              "    <tr style=\"text-align: right;\">\n",
              "      <th></th>\n",
              "      <th>order_gk</th>\n",
              "      <th>weekday_key</th>\n",
              "      <th>hour_key</th>\n",
              "      <th>distance_km</th>\n",
              "      <th>driver_response</th>\n",
              "    </tr>\n",
              "  </thead>\n",
              "  <tbody>\n",
              "    <tr>\n",
              "      <th>count</th>\n",
              "      <td>500.000000</td>\n",
              "      <td>500.000000</td>\n",
              "      <td>500.000000</td>\n",
              "      <td>500.000000</td>\n",
              "      <td>500.000000</td>\n",
              "    </tr>\n",
              "    <tr>\n",
              "      <th>mean</th>\n",
              "      <td>465289.002000</td>\n",
              "      <td>4.106000</td>\n",
              "      <td>22.943699</td>\n",
              "      <td>29.758910</td>\n",
              "      <td>0.486000</td>\n",
              "    </tr>\n",
              "    <tr>\n",
              "      <th>std</th>\n",
              "      <td>272443.226582</td>\n",
              "      <td>1.968378</td>\n",
              "      <td>4.842951</td>\n",
              "      <td>17.644643</td>\n",
              "      <td>0.500305</td>\n",
              "    </tr>\n",
              "    <tr>\n",
              "      <th>min</th>\n",
              "      <td>2710.000000</td>\n",
              "      <td>1.000000</td>\n",
              "      <td>15.496198</td>\n",
              "      <td>0.024259</td>\n",
              "      <td>0.000000</td>\n",
              "    </tr>\n",
              "    <tr>\n",
              "      <th>25%</th>\n",
              "      <td>232141.250000</td>\n",
              "      <td>2.000000</td>\n",
              "      <td>19.430402</td>\n",
              "      <td>16.345205</td>\n",
              "      <td>0.000000</td>\n",
              "    </tr>\n",
              "    <tr>\n",
              "      <th>50%</th>\n",
              "      <td>475479.000000</td>\n",
              "      <td>4.000000</td>\n",
              "      <td>21.704980</td>\n",
              "      <td>28.078273</td>\n",
              "      <td>0.000000</td>\n",
              "    </tr>\n",
              "    <tr>\n",
              "      <th>75%</th>\n",
              "      <td>697329.750000</td>\n",
              "      <td>6.000000</td>\n",
              "      <td>25.120825</td>\n",
              "      <td>41.300650</td>\n",
              "      <td>1.000000</td>\n",
              "    </tr>\n",
              "    <tr>\n",
              "      <th>max</th>\n",
              "      <td>918656.000000</td>\n",
              "      <td>7.000000</td>\n",
              "      <td>50.206056</td>\n",
              "      <td>81.507022</td>\n",
              "      <td>1.000000</td>\n",
              "    </tr>\n",
              "  </tbody>\n",
              "</table>\n",
              "</div>"
            ],
            "text/plain": [
              "            order_gk  weekday_key    hour_key  distance_km  driver_response\n",
              "count     500.000000   500.000000  500.000000   500.000000       500.000000\n",
              "mean   465289.002000     4.106000   22.943699    29.758910         0.486000\n",
              "std    272443.226582     1.968378    4.842951    17.644643         0.500305\n",
              "min      2710.000000     1.000000   15.496198     0.024259         0.000000\n",
              "25%    232141.250000     2.000000   19.430402    16.345205         0.000000\n",
              "50%    475479.000000     4.000000   21.704980    28.078273         0.000000\n",
              "75%    697329.750000     6.000000   25.120825    41.300650         1.000000\n",
              "max    918656.000000     7.000000   50.206056    81.507022         1.000000"
            ]
          },
          "execution_count": 9,
          "metadata": {},
          "output_type": "execute_result"
        }
      ],
      "source": [
        "df_comfort.describe()"
      ]
    },
    {
      "cell_type": "code",
      "execution_count": null,
      "metadata": {
        "id": "aEL6dZQnNKVu"
      },
      "outputs": [],
      "source": [
        "#  Параметры похожи."
      ]
    },
    {
      "cell_type": "markdown",
      "metadata": {
        "id": "njXXZw-vMM0G"
      },
      "source": [
        "Проверка гипотезы: «На дальние поездки пользователи предпочитают Economy-классу более комфортные условия поездки в Comfort-классе.\n",
        "\n",
        "H0 -Стоимость поездок не отличается.\n",
        "\n",
        "H1 - Стоимость поездок отличается значительно"
      ]
    },
    {
      "cell_type": "code",
      "execution_count": null,
      "metadata": {
        "id": "RuyHLgzWJacG"
      },
      "outputs": [],
      "source": [
        "alpha = 5 # Установка уровня значимости"
      ]
    },
    {
      "cell_type": "code",
      "execution_count": null,
      "metadata": {
        "colab": {
          "base_uri": "https://localhost:8080/"
        },
        "id": "2TkWPdV7PvHA",
        "outputId": "bff1af3e-fe43-4f14-c8d9-42b1af41d88f"
      },
      "outputs": [
        {
          "data": {
            "text/plain": [
              "[311.3334293306456, 289.5494522563771]"
            ]
          },
          "execution_count": 14,
          "metadata": {},
          "output_type": "execute_result"
        }
      ],
      "source": [
        "# Тест Фишера - \"отношение дисперсий дистанций\"\n",
        "import scipy.stats as stats\n",
        "# Определение дисперсии\n",
        "disp_comf= df_comfort['distance_km'].var()\n",
        "disp_econ= df_economy['distance_km'].var()\n",
        "[disp_comf,disp_econ]"
      ]
    },
    {
      "cell_type": "code",
      "execution_count": null,
      "metadata": {
        "colab": {
          "base_uri": "https://localhost:8080/"
        },
        "id": "oagSBpgLeFWN",
        "outputId": "92c48772-343d-4cd5-a2df-c1a893af47e3"
      },
      "outputs": [
        {
          "data": {
            "text/plain": [
              "1.0752340469115451"
            ]
          },
          "execution_count": 15,
          "metadata": {},
          "output_type": "execute_result"
        }
      ],
      "source": [
        "# Определение\n",
        "fish= disp_comf/disp_econ\n",
        "fish"
      ]
    },
    {
      "cell_type": "code",
      "execution_count": null,
      "metadata": {
        "id": "xk3MrPYphGvu"
      },
      "outputs": [],
      "source": [
        "#Дисперсии отличаются на 7 процентов. Сходимость достаточно высокая."
      ]
    },
    {
      "cell_type": "code",
      "execution_count": null,
      "metadata": {
        "colab": {
          "base_uri": "https://localhost:8080/"
        },
        "id": "coz29YjMMXrP",
        "outputId": "475bdedb-6318-410d-ca88-3617ba5612eb"
      },
      "outputs": [
        {
          "name": "stdout",
          "output_type": "stream",
          "text": [
            "p-value: 0.001568\n",
            "Отвергаем нулевую гипотезу\n"
          ]
        }
      ],
      "source": [
        "# Проведение Т-теста (t-критерий тьюдента) Проверка того,что уровень стоимость поездок не отичается/ альфа= 5%\n",
        "result =ttest_ind(df_comfort['distance_km'],df_economy['distance_km'])\n",
        "print ('p-value: %8f' % result.pvalue)\n",
        "\n",
        "if ( result.pvalue<alpha):\n",
        "  print('Отвергаем нулевую гипотезу')\n",
        "else:\n",
        "  print('Принимаем нулевую гипотезы')"
      ]
    },
    {
      "cell_type": "code",
      "execution_count": null,
      "metadata": {
        "id": "HKW9fSmwON0e"
      },
      "outputs": [],
      "source": [
        "# стоимость поездок отличается значительно"
      ]
    },
    {
      "cell_type": "code",
      "execution_count": null,
      "metadata": {
        "colab": {
          "base_uri": "https://localhost:8080/"
        },
        "id": "iQ79bCBiOcw3",
        "outputId": "e5d2e1f2-0ac1-4a88-d526-6100f8a0d0a4"
      },
      "outputs": [
        {
          "name": "stdout",
          "output_type": "stream",
          "text": [
            "p-value: 0.001285\n",
            "Отвергаем нулевую гипотезу\n"
          ]
        }
      ],
      "source": [
        "# Проведение теста Манна- Уитни (U-критерий Манна- Уитни)\n",
        "\n",
        "result =mannwhitneyu(df_comfort['distance_km'],df_economy['distance_km'])\n",
        "\n",
        "print ('p-value: %8f' % result.pvalue)\n",
        "\n",
        "if ( result.pvalue<alpha):\n",
        "  print('Отвергаем нулевую гипотезу')\n",
        "else:\n",
        "  print('Принимаем нулевую гипотезы')\n"
      ]
    },
    {
      "cell_type": "markdown",
      "metadata": {
        "id": "7fsdB5TahrKp"
      },
      "source": [
        "Вывод:\n",
        "\n",
        "Распределения похожи. Критерий фишера составлет 7%, что не много.\n",
        "\n",
        "Стоимость поездки в завимости от расстояния зависит от класса автомобиля с точностью 95%.\n",
        "\n",
        "Критерии Стьюдента и Манна-Уитни подтвержают это."
      ]
    },
    {
      "cell_type": "code",
      "execution_count": null,
      "metadata": {
        "id": "oi-5YMzDYRqP"
      },
      "outputs": [],
      "source": []
    }
  ],
  "metadata": {
    "colab": {
      "provenance": []
    },
    "kernelspec": {
      "display_name": "Python 3 (ipykernel)",
      "language": "python",
      "name": "python3"
    },
    "language_info": {
      "codemirror_mode": {
        "name": "ipython",
        "version": 3
      },
      "file_extension": ".py",
      "mimetype": "text/x-python",
      "name": "python",
      "nbconvert_exporter": "python",
      "pygments_lexer": "ipython3",
      "version": "3.11.5"
    }
  },
  "nbformat": 4,
  "nbformat_minor": 0
}